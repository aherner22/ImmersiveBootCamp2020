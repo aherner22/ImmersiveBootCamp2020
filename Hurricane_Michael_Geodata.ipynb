{
 "cells": [
  {
   "cell_type": "code",
   "execution_count": null,
   "metadata": {},
   "outputs": [],
   "source": [
    "import pandas as pd       #dataframe structures and analysis tools\n",
    "import geopandas as gpd   #transfering geolocation data\n",
    "import matplotlib.pyplot as plt     #visualizations tools\n",
    "\n",
    "#from datetime import datetime      #convert data to datetime that doesn't fall w/in pandas.datetime function\n",
    "from shapely.geometry import Point  #transform lat/long to geo-coord data\n",
    "#from geopandas.tools import geocode  #get lat/long given an address\n",
    "#from geopandas.tools import reverse_geocode #get address given lat/long\n",
    "\n",
    "%matplotlib inline"
   ]
  },
  {
   "cell_type": "markdown",
   "metadata": {},
   "source": [
    "Assignment: Using the geopandas library, turn the latitude and longitude columns into a geographical Point data type then make a geodataframe. Plot the path of Hurricane Michael onto the US map in the GeoJSON file"
   ]
  },
  {
   "cell_type": "markdown",
   "metadata": {},
   "source": [
    "#### Read in Data"
   ]
  },
  {
   "cell_type": "code",
   "execution_count": null,
   "metadata": {},
   "outputs": [],
   "source": [
    "#Load Hurricane Michael data into dataframe\n",
    "location = \"datasets_hurricaneMichael.csv\"\n",
    "\n",
    "HurMike_df = pd.read_csv(location)\n",
    "HurMike_df.head()"
   ]
  },
  {
   "cell_type": "code",
   "execution_count": null,
   "metadata": {},
   "outputs": [],
   "source": [
    "#determine if any missing values\n",
    "HurMike_df.count()"
   ]
  },
  {
   "cell_type": "code",
   "execution_count": null,
   "metadata": {},
   "outputs": [],
   "source": [
    "#check dtypes for each col\n",
    "HurMike_df.dtypes"
   ]
  },
  {
   "cell_type": "code",
   "execution_count": null,
   "metadata": {},
   "outputs": [],
   "source": [
    "#turn Long col into negative values\n",
    "HurMike_df['Long'] = 0 - HurMike_df['Long']"
   ]
  },
  {
   "cell_type": "code",
   "execution_count": null,
   "metadata": {},
   "outputs": [],
   "source": [
    "#make a new column to hold the Long and Lat as a list\n",
    "HurMike_df['coordinates'] = list(HurMike_df[['Long','Lat']].values)"
   ]
  },
  {
   "cell_type": "code",
   "execution_count": null,
   "metadata": {},
   "outputs": [],
   "source": [
    "#verify new col was created\n",
    "HurMike_df.head()"
   ]
  },
  {
   "cell_type": "markdown",
   "metadata": {},
   "source": [
    "####  Turn Long and Lat columns into a geographical Point data type"
   ]
  },
  {
   "cell_type": "code",
   "execution_count": null,
   "metadata": {},
   "outputs": [],
   "source": [
    "#list values in coordinates col are object types\n",
    "#convert to geolocation type\n",
    "HurMike_df['coordinates'] = HurMike_df['coordinates'].apply(Point)"
   ]
  },
  {
   "cell_type": "code",
   "execution_count": null,
   "metadata": {},
   "outputs": [],
   "source": [
    "#verify geolocation type conversion occurred\n",
    "HurMike_df.head()"
   ]
  },
  {
   "cell_type": "markdown",
   "metadata": {},
   "source": [
    "#### Make Geo Dataframe"
   ]
  },
  {
   "cell_type": "code",
   "execution_count": null,
   "metadata": {},
   "outputs": [],
   "source": [
    "#coordinates col w/ geolocation data is a regular pandas series type\n",
    "#convert to geolocation dataframe type using geolocation data in coordinates col\n",
    "HurMike_geo_df = gpd.GeoDataFrame(HurMike_df, geometry='coordinates')"
   ]
  },
  {
   "cell_type": "code",
   "execution_count": null,
   "metadata": {},
   "outputs": [],
   "source": [
    "#geo dataframe \n",
    "HurMike_geo_df.head()"
   ]
  },
  {
   "cell_type": "code",
   "execution_count": null,
   "metadata": {},
   "outputs": [],
   "source": [
    "#import file that contains a US map shape polygons\n",
    "#will use to plot coordinates of Hurricane Michael's path\n",
    "filepath = \"datasets_US_states(5m).json\"\n",
    "\n",
    "map_df = gpd.read_file(filepath)\n",
    "map_df.head()"
   ]
  },
  {
   "cell_type": "code",
   "execution_count": null,
   "metadata": {},
   "outputs": [],
   "source": [
    "#create geo dataframe that only contains the contigious United States (48 states)\n",
    "map48_df = map_df.loc[map_df['NAME'].isin(['Alaska', 'Hawaii', 'Puerto Rico']) == False]"
   ]
  },
  {
   "cell_type": "code",
   "execution_count": null,
   "metadata": {},
   "outputs": [],
   "source": [
    "map48_df.head()"
   ]
  },
  {
   "cell_type": "markdown",
   "metadata": {},
   "source": [
    "#### Plot path of Hurricane Michael onto the US map"
   ]
  },
  {
   "cell_type": "code",
   "execution_count": null,
   "metadata": {},
   "outputs": [],
   "source": [
    "#map the contigious states\n",
    "map48_df.plot()"
   ]
  },
  {
   "cell_type": "code",
   "execution_count": null,
   "metadata": {},
   "outputs": [],
   "source": [
    "#plot Hurricane Michael's coordinates\n",
    "HurMike_geo_df.plot()"
   ]
  },
  {
   "cell_type": "code",
   "execution_count": null,
   "metadata": {},
   "outputs": [],
   "source": [
    "#plot Hurr Mike's coords on top of states map graph\n",
    "\n",
    "#set size of borders\n",
    "fig, ax = plt.subplots(1, figsize=(15,10))\n",
    "\n",
    "#this is the states map\n",
    "basemap = map48_df.plot(ax=ax)\n",
    "\n",
    "#plot coords on top of states map\n",
    "HurMike_geo_df.plot(ax=basemap, color='darkred', marker='.', markersize=35)\n",
    "\n",
    "#take off axis numbers\n",
    "ax.axis('on')\n",
    "\n",
    "#put title on map\n",
    "ax.set_title(\"Hurricane Michael's Path\", fontsize=20, fontweight=3)"
   ]
  },
  {
   "cell_type": "code",
   "execution_count": null,
   "metadata": {},
   "outputs": [],
   "source": []
  }
 ],
 "metadata": {
  "kernelspec": {
   "display_name": "Python 3",
   "language": "python",
   "name": "python3"
  },
  "language_info": {
   "codemirror_mode": {
    "name": "ipython",
    "version": 3
   },
   "file_extension": ".py",
   "mimetype": "text/x-python",
   "name": "python",
   "nbconvert_exporter": "python",
   "pygments_lexer": "ipython3",
   "version": "3.7.7"
  }
 },
 "nbformat": 4,
 "nbformat_minor": 4
}

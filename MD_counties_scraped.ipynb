{
 "cells": [
  {
   "cell_type": "code",
   "execution_count": 79,
   "metadata": {},
   "outputs": [],
   "source": [
    "import requests  #library used to download web pages.\n",
    "from bs4 import BeautifulSoup  #import Beautiful Soup functions to parse data returned from the website\n",
    "import pandas as pd  #import pandas to convert list of table rows to a data frame"
   ]
  },
  {
   "cell_type": "code",
   "execution_count": 80,
   "metadata": {},
   "outputs": [],
   "source": [
    "#specify url\n",
    "URL = \"https://en.wikipedia.org/wiki/List_of_counties_in_Maryland#List_of_counties\""
   ]
  },
  {
   "cell_type": "code",
   "execution_count": 81,
   "metadata": {},
   "outputs": [],
   "source": [
    "#connecting to website using variable page and using .get() function from the requests library to retrieve data from the URL\n",
    "page = requests.get(URL)"
   ]
  },
  {
   "cell_type": "code",
   "execution_count": 82,
   "metadata": {},
   "outputs": [
    {
     "data": {
      "text/plain": [
       "requests.models.Response"
      ]
     },
     "execution_count": 82,
     "metadata": {},
     "output_type": "execute_result"
    }
   ],
   "source": [
    "#inspecting the results of the request\n",
    "type(page)"
   ]
  },
  {
   "cell_type": "code",
   "execution_count": 83,
   "metadata": {},
   "outputs": [
    {
     "data": {
      "text/plain": [
       "200"
      ]
     },
     "execution_count": 83,
     "metadata": {},
     "output_type": "execute_result"
    }
   ],
   "source": [
    "#verify successful connection\n",
    "#a 200 OK status means the request was successful, and the server responded with the data requested\n",
    "page.status_code"
   ]
  },
  {
   "cell_type": "code",
   "execution_count": 84,
   "metadata": {},
   "outputs": [],
   "source": [
    "#save string format of website to a variable HTMLstr\n",
    "HTMLstr = page.text"
   ]
  },
  {
   "cell_type": "code",
   "execution_count": 85,
   "metadata": {},
   "outputs": [
    {
     "name": "stdout",
     "output_type": "stream",
     "text": [
      "\n",
      "<!DOCTYPE html>\n",
      "<html class=\"client-nojs\" lang=\"en\" dir=\"ltr\">\n",
      "<head>\n",
      "<meta charset=\"UTF-8\"/>\n",
      "<title>List of counties in Maryland - Wikipedia</title>\n",
      "<script>document.documentElement.className=\"client-js\";RLCONF={\"wgBreakFrames\":!1,\"wgSeparatorTransformTable\":[\"\",\"\"],\"wgDigitTransformTable\":[\"\",\"\"]\n"
     ]
    }
   ],
   "source": [
    "#look at the first several hundred characters in the website string\n",
    "print(HTMLstr[:300])"
   ]
  },
  {
   "cell_type": "code",
   "execution_count": 86,
   "metadata": {},
   "outputs": [],
   "source": [
    "#parse (analyze a string or text into logical syntactic components) html using Beautiful soup and store to variable soup\n",
    "#first argument: raw HTML content; second argument: specify the HTML parser to use\n",
    "soup = BeautifulSoup(HTMLstr, \"html.parser\")"
   ]
  },
  {
   "cell_type": "code",
   "execution_count": 87,
   "metadata": {},
   "outputs": [],
   "source": [
    "#look at contents of page - wall of text\n",
    "#soup"
   ]
  },
  {
   "cell_type": "code",
   "execution_count": 88,
   "metadata": {},
   "outputs": [],
   "source": [
    "#format page to include indentation giving same visual presentation as the parse tree created from the raw HTML content\n",
    "#print(soup.prettify())"
   ]
  },
  {
   "cell_type": "code",
   "execution_count": 90,
   "metadata": {},
   "outputs": [],
   "source": [
    "#find all attribute <a> tags on the page and set it to the variale all_links\n",
    "#all_links = soup.find_all(\"a\")\n",
    "\n",
    "#and then set all hyperlink references (href's) in the <a> tags to a variabe to list and print using .get() function in a for loop\n",
    "#for link in all_links:\n",
    "#    print(link.get(\"href\"))"
   ]
  },
  {
   "cell_type": "code",
   "execution_count": 91,
   "metadata": {},
   "outputs": [],
   "source": [
    "#find all table <table> tags and set to variable all_tables\n",
    "all_tables = soup.find_all(\"table\")\n",
    "#all_tables"
   ]
  },
  {
   "cell_type": "code",
   "execution_count": 92,
   "metadata": {},
   "outputs": [],
   "source": [
    "#There is more than one table so get <table> tag for data in list of counties table - 'wikitable sortable'\n",
    "correct_table = soup.find('table', class_='wikitable sortable')\n",
    "#correct_table"
   ]
  },
  {
   "cell_type": "code",
   "execution_count": 93,
   "metadata": {},
   "outputs": [],
   "source": [
    "#set empty lists to hold data for each column (8 cols, 24 rows)\n",
    "A=[] #county      0\n",
    "B=[] #FIPS code   0\n",
    "C=[] #County seat 1\n",
    "D=[] #Est.        2\n",
    "E=[] #Origin      3\n",
    "F=[] #Etymology   4\n",
    "G=[] #Population  7\n",
    "H=[] #Area        8\n",
    "\n",
    "#find all the table row <tr> tags; using a for loop go thru each one (row)\n",
    "    #and then, get all the table data <td> tags for each <tr> tag and set them to a temp. var cells\n",
    "    #if the number of <td> cells is 11 then append the empty lists to fill in the data\n",
    "for row in correct_table.findAll(\"tr\"):\n",
    "    heads = row.findAll(\"th\")\n",
    "    cells = row.findAll(\"td\")\n",
    "    \n",
    "    if len(cells) == 10:\n",
    "        \n",
    "        A.append(heads[0].find(text=True))  #gets info in county column and adds it to list A\n",
    "        B.append(cells[0].find(text=True))  #gets info in FIPS code column and adds it to list B\n",
    "        C.append(cells[1].find(text=True))  #gets info in County seat column and adds it to list C\n",
    "        D.append(cells[2].find(text=True))  #gets info in Est. column and adds it to list D\n",
    "        E.append(cells[3].find(text=True))  #gets info in Origin column and adds it to list E\n",
    "        F.append(cells[4].find(text=True))  #gets info in Etymology column and adds it to list F\n",
    "        G.append(cells[7].find(text=True))  #gets info in Poplulation column and adds it to list G\n",
    "        H.append(cells[8].find(text=True))  #gets info in Area column and adds it to list H"
   ]
  },
  {
   "cell_type": "code",
   "execution_count": 94,
   "metadata": {},
   "outputs": [
    {
     "name": "stdout",
     "output_type": "stream",
     "text": [
      "24\n",
      "24\n",
      "24\n",
      "24\n",
      "24\n",
      "24\n",
      "24\n",
      "24\n"
     ]
    }
   ],
   "source": [
    "print(len(A))\n",
    "print(len(B))\n",
    "print(len(C))\n",
    "print(len(D))\n",
    "print(len(E))\n",
    "print(len(F))\n",
    "print(len(G))\n",
    "print(len(H))"
   ]
  },
  {
   "cell_type": "code",
   "execution_count": 95,
   "metadata": {},
   "outputs": [
    {
     "data": {
      "text/plain": [
       "['Allegany County',\n",
       " 'Anne Arundel County',\n",
       " 'Baltimore County',\n",
       " 'Baltimore City',\n",
       " 'Calvert County',\n",
       " 'Caroline County',\n",
       " 'Carroll County',\n",
       " 'Cecil County',\n",
       " 'Charles County',\n",
       " 'Dorchester County',\n",
       " 'Frederick County',\n",
       " 'Garrett County',\n",
       " 'Harford County',\n",
       " 'Howard County',\n",
       " 'Kent County',\n",
       " 'Montgomery County',\n",
       " \"Prince George's County\",\n",
       " \"Queen Anne's County\",\n",
       " 'Somerset County',\n",
       " \"St. Mary's County\",\n",
       " 'Talbot County',\n",
       " 'Washington County',\n",
       " 'Wicomico County',\n",
       " 'Worcester County']"
      ]
     },
     "execution_count": 95,
     "metadata": {},
     "output_type": "execute_result"
    }
   ],
   "source": [
    "#verify data in list A\n",
    "A"
   ]
  },
  {
   "cell_type": "code",
   "execution_count": 96,
   "metadata": {},
   "outputs": [
    {
     "data": {
      "text/html": [
       "<div>\n",
       "<style scoped>\n",
       "    .dataframe tbody tr th:only-of-type {\n",
       "        vertical-align: middle;\n",
       "    }\n",
       "\n",
       "    .dataframe tbody tr th {\n",
       "        vertical-align: top;\n",
       "    }\n",
       "\n",
       "    .dataframe thead th {\n",
       "        text-align: right;\n",
       "    }\n",
       "</style>\n",
       "<table border=\"1\" class=\"dataframe\">\n",
       "  <thead>\n",
       "    <tr style=\"text-align: right;\">\n",
       "      <th></th>\n",
       "      <th>County</th>\n",
       "      <th>FIPS code</th>\n",
       "      <th>County seat</th>\n",
       "      <th>Est.</th>\n",
       "      <th>Origin</th>\n",
       "      <th>Etymology</th>\n",
       "      <th>Population</th>\n",
       "      <th>Area</th>\n",
       "    </tr>\n",
       "  </thead>\n",
       "  <tbody>\n",
       "    <tr>\n",
       "      <th>0</th>\n",
       "      <td>Allegany County</td>\n",
       "      <td>001</td>\n",
       "      <td>Cumberland</td>\n",
       "      <td>1789</td>\n",
       "      <td>Formed from part of Washington County.</td>\n",
       "      <td>From the Lenape Indian word</td>\n",
       "      <td>74,012</td>\n",
       "      <td>430</td>\n",
       "    </tr>\n",
       "    <tr>\n",
       "      <th>1</th>\n",
       "      <td>Anne Arundel County</td>\n",
       "      <td>003</td>\n",
       "      <td>Annapolis</td>\n",
       "      <td>1650</td>\n",
       "      <td>Formed from part of St. Mary's County.</td>\n",
       "      <td>Anne Arundell</td>\n",
       "      <td>550,488</td>\n",
       "      <td>588</td>\n",
       "    </tr>\n",
       "    <tr>\n",
       "      <th>2</th>\n",
       "      <td>Baltimore County</td>\n",
       "      <td>005</td>\n",
       "      <td>Towson</td>\n",
       "      <td>1659</td>\n",
       "      <td>Formed from unorganized territory</td>\n",
       "      <td>Cecil Calvert, 2nd Baron Baltimore</td>\n",
       "      <td>817,455</td>\n",
       "      <td>682</td>\n",
       "    </tr>\n",
       "    <tr>\n",
       "      <th>3</th>\n",
       "      <td>Baltimore City</td>\n",
       "      <td>510</td>\n",
       "      <td>Baltimore City</td>\n",
       "      <td>1851</td>\n",
       "      <td>Founded in 1729. Detached in 1851 from Baltimo...</td>\n",
       "      <td>Cecil Calvert, 2nd Baron Baltimore</td>\n",
       "      <td>621,342</td>\n",
       "      <td>92</td>\n",
       "    </tr>\n",
       "    <tr>\n",
       "      <th>4</th>\n",
       "      <td>Calvert County</td>\n",
       "      <td>009</td>\n",
       "      <td>Prince Frederick</td>\n",
       "      <td>1654</td>\n",
       "      <td>Formed as Patuxent County from unorganized ter...</td>\n",
       "      <td>The</td>\n",
       "      <td>89,628</td>\n",
       "      <td>345</td>\n",
       "    </tr>\n",
       "  </tbody>\n",
       "</table>\n",
       "</div>"
      ],
      "text/plain": [
       "                County FIPS code       County seat  Est.  \\\n",
       "0      Allegany County       001        Cumberland  1789   \n",
       "1  Anne Arundel County       003         Annapolis  1650   \n",
       "2     Baltimore County       005            Towson  1659   \n",
       "3       Baltimore City       510    Baltimore City  1851   \n",
       "4       Calvert County       009  Prince Frederick  1654   \n",
       "\n",
       "                                              Origin  \\\n",
       "0             Formed from part of Washington County.   \n",
       "1             Formed from part of St. Mary's County.   \n",
       "2                  Formed from unorganized territory   \n",
       "3  Founded in 1729. Detached in 1851 from Baltimo...   \n",
       "4  Formed as Patuxent County from unorganized ter...   \n",
       "\n",
       "                            Etymology Population Area  \n",
       "0        From the Lenape Indian word      74,012  430  \n",
       "1                       Anne Arundell    550,488  588  \n",
       "2  Cecil Calvert, 2nd Baron Baltimore    817,455  682  \n",
       "3  Cecil Calvert, 2nd Baron Baltimore    621,342   92  \n",
       "4                                The      89,628  345  "
      ]
     },
     "execution_count": 96,
     "metadata": {},
     "output_type": "execute_result"
    }
   ],
   "source": [
    "#turn list A into a dataframe first\n",
    "df = pd.DataFrame(A, columns=['County'])  \n",
    "\n",
    "#add lists B-H as new columns in the new dataframe\n",
    "df['FIPS code'] = B\n",
    "df['County seat'] = C\n",
    "df['Est.'] = D\n",
    "df['Origin'] = E\n",
    "df['Etymology'] = F\n",
    "df['Population'] = G\n",
    "df['Area'] = H\n",
    "\n",
    "df.head() "
   ]
  },
  {
   "cell_type": "code",
   "execution_count": 97,
   "metadata": {},
   "outputs": [],
   "source": [
    "#export scraped data, now dataframe to a csv file\n",
    "df.to_csv(\"MD_Counties.csv\")"
   ]
  },
  {
   "cell_type": "code",
   "execution_count": null,
   "metadata": {},
   "outputs": [],
   "source": []
  }
 ],
 "metadata": {
  "kernelspec": {
   "display_name": "Python 3",
   "language": "python",
   "name": "python3"
  },
  "language_info": {
   "codemirror_mode": {
    "name": "ipython",
    "version": 3
   },
   "file_extension": ".py",
   "mimetype": "text/x-python",
   "name": "python",
   "nbconvert_exporter": "python",
   "pygments_lexer": "ipython3",
   "version": "3.7.6"
  }
 },
 "nbformat": 4,
 "nbformat_minor": 4
}

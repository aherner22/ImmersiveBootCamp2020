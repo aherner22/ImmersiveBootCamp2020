{
 "cells": [
  {
   "cell_type": "code",
   "execution_count": 1,
   "metadata": {},
   "outputs": [],
   "source": [
    "import pandas as pd\n",
    "import datetime as dt\n",
    "from datetime import timedelta\n",
    "import numpy as np\n",
    "import seaborn as sns\n",
    "import matplotlib.pyplot as plt\n",
    "from sklearn.linear_model import LinearRegression\n",
    "from sklearn.metrics import mean_squared_error\n",
    "from sklearn.svm import SVR\n",
    "from statsmodels.tsa.api import Holt, ExponentialSmoothing\n",
    "\n",
    "%matplotlib inline"
   ]
  },
  {
   "cell_type": "code",
   "execution_count": 2,
   "metadata": {},
   "outputs": [
    {
     "data": {
      "text/html": [
       "<div>\n",
       "<style scoped>\n",
       "    .dataframe tbody tr th:only-of-type {\n",
       "        vertical-align: middle;\n",
       "    }\n",
       "\n",
       "    .dataframe tbody tr th {\n",
       "        vertical-align: top;\n",
       "    }\n",
       "\n",
       "    .dataframe thead th {\n",
       "        text-align: right;\n",
       "    }\n",
       "</style>\n",
       "<table border=\"1\" class=\"dataframe\">\n",
       "  <thead>\n",
       "    <tr style=\"text-align: right;\">\n",
       "      <th></th>\n",
       "      <th>SNo</th>\n",
       "      <th>ObservationDate</th>\n",
       "      <th>Province/State</th>\n",
       "      <th>Country/Region</th>\n",
       "      <th>Last Update</th>\n",
       "      <th>Confirmed</th>\n",
       "      <th>Deaths</th>\n",
       "      <th>Recovered</th>\n",
       "    </tr>\n",
       "  </thead>\n",
       "  <tbody>\n",
       "    <tr>\n",
       "      <th>0</th>\n",
       "      <td>1</td>\n",
       "      <td>01/22/2020</td>\n",
       "      <td>Anhui</td>\n",
       "      <td>Mainland China</td>\n",
       "      <td>1/22/2020 17:00</td>\n",
       "      <td>1.0</td>\n",
       "      <td>0.0</td>\n",
       "      <td>0.0</td>\n",
       "    </tr>\n",
       "    <tr>\n",
       "      <th>1</th>\n",
       "      <td>2</td>\n",
       "      <td>01/22/2020</td>\n",
       "      <td>Beijing</td>\n",
       "      <td>Mainland China</td>\n",
       "      <td>1/22/2020 17:00</td>\n",
       "      <td>14.0</td>\n",
       "      <td>0.0</td>\n",
       "      <td>0.0</td>\n",
       "    </tr>\n",
       "    <tr>\n",
       "      <th>2</th>\n",
       "      <td>3</td>\n",
       "      <td>01/22/2020</td>\n",
       "      <td>Chongqing</td>\n",
       "      <td>Mainland China</td>\n",
       "      <td>1/22/2020 17:00</td>\n",
       "      <td>6.0</td>\n",
       "      <td>0.0</td>\n",
       "      <td>0.0</td>\n",
       "    </tr>\n",
       "    <tr>\n",
       "      <th>3</th>\n",
       "      <td>4</td>\n",
       "      <td>01/22/2020</td>\n",
       "      <td>Fujian</td>\n",
       "      <td>Mainland China</td>\n",
       "      <td>1/22/2020 17:00</td>\n",
       "      <td>1.0</td>\n",
       "      <td>0.0</td>\n",
       "      <td>0.0</td>\n",
       "    </tr>\n",
       "    <tr>\n",
       "      <th>4</th>\n",
       "      <td>5</td>\n",
       "      <td>01/22/2020</td>\n",
       "      <td>Gansu</td>\n",
       "      <td>Mainland China</td>\n",
       "      <td>1/22/2020 17:00</td>\n",
       "      <td>0.0</td>\n",
       "      <td>0.0</td>\n",
       "      <td>0.0</td>\n",
       "    </tr>\n",
       "  </tbody>\n",
       "</table>\n",
       "</div>"
      ],
      "text/plain": [
       "   SNo ObservationDate Province/State  Country/Region      Last Update  \\\n",
       "0    1      01/22/2020          Anhui  Mainland China  1/22/2020 17:00   \n",
       "1    2      01/22/2020        Beijing  Mainland China  1/22/2020 17:00   \n",
       "2    3      01/22/2020      Chongqing  Mainland China  1/22/2020 17:00   \n",
       "3    4      01/22/2020         Fujian  Mainland China  1/22/2020 17:00   \n",
       "4    5      01/22/2020          Gansu  Mainland China  1/22/2020 17:00   \n",
       "\n",
       "   Confirmed  Deaths  Recovered  \n",
       "0        1.0     0.0        0.0  \n",
       "1       14.0     0.0        0.0  \n",
       "2        6.0     0.0        0.0  \n",
       "3        1.0     0.0        0.0  \n",
       "4        0.0     0.0        0.0  "
      ]
     },
     "execution_count": 2,
     "metadata": {},
     "output_type": "execute_result"
    }
   ],
   "source": [
    "#read data in\n",
    "location = \"covid_19_data.csv\"\n",
    "df = pd.read_csv(location)\n",
    "df.head()"
   ]
  },
  {
   "cell_type": "code",
   "execution_count": 3,
   "metadata": {},
   "outputs": [
    {
     "name": "stdout",
     "output_type": "stream",
     "text": [
      "Shape: (19286, 8)\n",
      "\n",
      "Count:\n",
      "SNo                19286\n",
      "ObservationDate    19286\n",
      "Province/State      9466\n",
      "Country/Region     19286\n",
      "Last Update        19286\n",
      "Confirmed          19286\n",
      "Deaths             19286\n",
      "Recovered          19286\n",
      "dtype: int64\n",
      "\n",
      "Isnull:\n",
      "SNo                   0\n",
      "ObservationDate       0\n",
      "Province/State     9820\n",
      "Country/Region        0\n",
      "Last Update           0\n",
      "Confirmed             0\n",
      "Deaths                0\n",
      "Recovered             0\n",
      "dtype: int64\n",
      "\n",
      "D-Types:\n",
      "SNo                  int64\n",
      "ObservationDate     object\n",
      "Province/State      object\n",
      "Country/Region      object\n",
      "Last Update         object\n",
      "Confirmed          float64\n",
      "Deaths             float64\n",
      "Recovered          float64\n",
      "dtype: object\n"
     ]
    }
   ],
   "source": [
    "print(f\"Shape: {df.shape}\")\n",
    "print(f\"\\nCount:\\n{df.count()}\")\n",
    "print(f\"\\nIsnull:\\n{df.isnull().sum()}\")\n",
    "print(f\"\\nD-Types:\\n{df.dtypes}\")"
   ]
  },
  {
   "cell_type": "code",
   "execution_count": 4,
   "metadata": {},
   "outputs": [
    {
     "data": {
      "text/html": [
       "<div>\n",
       "<style scoped>\n",
       "    .dataframe tbody tr th:only-of-type {\n",
       "        vertical-align: middle;\n",
       "    }\n",
       "\n",
       "    .dataframe tbody tr th {\n",
       "        vertical-align: top;\n",
       "    }\n",
       "\n",
       "    .dataframe thead th {\n",
       "        text-align: right;\n",
       "    }\n",
       "</style>\n",
       "<table border=\"1\" class=\"dataframe\">\n",
       "  <thead>\n",
       "    <tr style=\"text-align: right;\">\n",
       "      <th></th>\n",
       "      <th>SNo</th>\n",
       "      <th>ObservationDate</th>\n",
       "      <th>Province/State</th>\n",
       "      <th>Country/Region</th>\n",
       "      <th>Last Update</th>\n",
       "      <th>Confirmed</th>\n",
       "      <th>Deaths</th>\n",
       "      <th>Recovered</th>\n",
       "    </tr>\n",
       "  </thead>\n",
       "  <tbody>\n",
       "  </tbody>\n",
       "</table>\n",
       "</div>"
      ],
      "text/plain": [
       "Empty DataFrame\n",
       "Columns: [SNo, ObservationDate, Province/State, Country/Region, Last Update, Confirmed, Deaths, Recovered]\n",
       "Index: []"
      ]
     },
     "execution_count": 4,
     "metadata": {},
     "output_type": "execute_result"
    }
   ],
   "source": [
    "#Check for duplicates; locate duplicate rows\n",
    "dupe = df.duplicated()\n",
    "df.loc[dupe]"
   ]
  },
  {
   "cell_type": "code",
   "execution_count": 5,
   "metadata": {},
   "outputs": [],
   "source": [
    "#Remove unnecessary columns or columns with too much missing data\n",
    "df = df.drop(['SNo', 'Province/State', 'Last Update'], axis=1)\n",
    "#df.head()"
   ]
  },
  {
   "cell_type": "code",
   "execution_count": 6,
   "metadata": {},
   "outputs": [],
   "source": [
    "#Put 'ObservationDate' into Datetime format\n",
    "df['ObservationDate']=pd.to_datetime(df['ObservationDate'])\n",
    "#df.head()"
   ]
  },
  {
   "cell_type": "code",
   "execution_count": 7,
   "metadata": {},
   "outputs": [
    {
     "data": {
      "text/html": [
       "<div>\n",
       "<style scoped>\n",
       "    .dataframe tbody tr th:only-of-type {\n",
       "        vertical-align: middle;\n",
       "    }\n",
       "\n",
       "    .dataframe tbody tr th {\n",
       "        vertical-align: top;\n",
       "    }\n",
       "\n",
       "    .dataframe thead th {\n",
       "        text-align: right;\n",
       "    }\n",
       "</style>\n",
       "<table border=\"1\" class=\"dataframe\">\n",
       "  <thead>\n",
       "    <tr style=\"text-align: right;\">\n",
       "      <th></th>\n",
       "      <th>Confirmed</th>\n",
       "      <th>Deaths</th>\n",
       "      <th>Recovered</th>\n",
       "    </tr>\n",
       "  </thead>\n",
       "  <tbody>\n",
       "    <tr>\n",
       "      <th>Confirmed</th>\n",
       "      <td>1.000000</td>\n",
       "      <td>0.902848</td>\n",
       "      <td>0.648829</td>\n",
       "    </tr>\n",
       "    <tr>\n",
       "      <th>Deaths</th>\n",
       "      <td>0.902848</td>\n",
       "      <td>1.000000</td>\n",
       "      <td>0.560395</td>\n",
       "    </tr>\n",
       "    <tr>\n",
       "      <th>Recovered</th>\n",
       "      <td>0.648829</td>\n",
       "      <td>0.560395</td>\n",
       "      <td>1.000000</td>\n",
       "    </tr>\n",
       "  </tbody>\n",
       "</table>\n",
       "</div>"
      ],
      "text/plain": [
       "           Confirmed    Deaths  Recovered\n",
       "Confirmed   1.000000  0.902848   0.648829\n",
       "Deaths      0.902848  1.000000   0.560395\n",
       "Recovered   0.648829  0.560395   1.000000"
      ]
     },
     "execution_count": 7,
     "metadata": {},
     "output_type": "execute_result"
    }
   ],
   "source": [
    "df.corr()"
   ]
  },
  {
   "cell_type": "code",
   "execution_count": 8,
   "metadata": {},
   "outputs": [
    {
     "data": {
      "text/html": [
       "<div>\n",
       "<style scoped>\n",
       "    .dataframe tbody tr th:only-of-type {\n",
       "        vertical-align: middle;\n",
       "    }\n",
       "\n",
       "    .dataframe tbody tr th {\n",
       "        vertical-align: top;\n",
       "    }\n",
       "\n",
       "    .dataframe thead th {\n",
       "        text-align: right;\n",
       "    }\n",
       "</style>\n",
       "<table border=\"1\" class=\"dataframe\">\n",
       "  <thead>\n",
       "    <tr style=\"text-align: right;\">\n",
       "      <th></th>\n",
       "      <th>Recovered</th>\n",
       "      <th>Confirmed</th>\n",
       "      <th>Deaths</th>\n",
       "    </tr>\n",
       "    <tr>\n",
       "      <th>Country/Region</th>\n",
       "      <th></th>\n",
       "      <th></th>\n",
       "      <th></th>\n",
       "    </tr>\n",
       "  </thead>\n",
       "  <tbody>\n",
       "    <tr>\n",
       "      <th>US</th>\n",
       "      <td>111424.0</td>\n",
       "      <td>988197.0</td>\n",
       "      <td>56259.0</td>\n",
       "    </tr>\n",
       "    <tr>\n",
       "      <th>Spain</th>\n",
       "      <td>120832.0</td>\n",
       "      <td>229422.0</td>\n",
       "      <td>23521.0</td>\n",
       "    </tr>\n",
       "    <tr>\n",
       "      <th>Italy</th>\n",
       "      <td>66624.0</td>\n",
       "      <td>199414.0</td>\n",
       "      <td>26977.0</td>\n",
       "    </tr>\n",
       "    <tr>\n",
       "      <th>France</th>\n",
       "      <td>46293.0</td>\n",
       "      <td>165963.0</td>\n",
       "      <td>23327.0</td>\n",
       "    </tr>\n",
       "    <tr>\n",
       "      <th>Germany</th>\n",
       "      <td>114500.0</td>\n",
       "      <td>158758.0</td>\n",
       "      <td>6126.0</td>\n",
       "    </tr>\n",
       "  </tbody>\n",
       "</table>\n",
       "</div>"
      ],
      "text/plain": [
       "                Recovered  Confirmed   Deaths\n",
       "Country/Region                               \n",
       "US               111424.0   988197.0  56259.0\n",
       "Spain            120832.0   229422.0  23521.0\n",
       "Italy             66624.0   199414.0  26977.0\n",
       "France            46293.0   165963.0  23327.0\n",
       "Germany          114500.0   158758.0   6126.0"
      ]
     },
     "execution_count": 8,
     "metadata": {},
     "output_type": "execute_result"
    }
   ],
   "source": [
    "#groupby country\n",
    "country_df = df[df['ObservationDate']==df['ObservationDate'].max()].groupby(['Country/Region']).agg({'Recovered':'sum', 'Confirmed':'sum', 'Deaths':'sum'}).sort_values(['Confirmed'], ascending=False)\n",
    "country_df.head()"
   ]
  },
  {
   "cell_type": "code",
   "execution_count": 9,
   "metadata": {},
   "outputs": [
    {
     "data": {
      "text/html": [
       "<div>\n",
       "<style scoped>\n",
       "    .dataframe tbody tr th:only-of-type {\n",
       "        vertical-align: middle;\n",
       "    }\n",
       "\n",
       "    .dataframe tbody tr th {\n",
       "        vertical-align: top;\n",
       "    }\n",
       "\n",
       "    .dataframe thead th {\n",
       "        text-align: right;\n",
       "    }\n",
       "</style>\n",
       "<table border=\"1\" class=\"dataframe\">\n",
       "  <thead>\n",
       "    <tr style=\"text-align: right;\">\n",
       "      <th></th>\n",
       "      <th>Recovered</th>\n",
       "      <th>Confirmed</th>\n",
       "      <th>Deaths</th>\n",
       "    </tr>\n",
       "    <tr>\n",
       "      <th>ObservationDate</th>\n",
       "      <th></th>\n",
       "      <th></th>\n",
       "      <th></th>\n",
       "    </tr>\n",
       "  </thead>\n",
       "  <tbody>\n",
       "    <tr>\n",
       "      <th>2020-01-22</th>\n",
       "      <td>28.0</td>\n",
       "      <td>555.0</td>\n",
       "      <td>17.0</td>\n",
       "    </tr>\n",
       "    <tr>\n",
       "      <th>2020-01-23</th>\n",
       "      <td>30.0</td>\n",
       "      <td>653.0</td>\n",
       "      <td>18.0</td>\n",
       "    </tr>\n",
       "    <tr>\n",
       "      <th>2020-01-24</th>\n",
       "      <td>36.0</td>\n",
       "      <td>941.0</td>\n",
       "      <td>26.0</td>\n",
       "    </tr>\n",
       "    <tr>\n",
       "      <th>2020-01-25</th>\n",
       "      <td>39.0</td>\n",
       "      <td>1438.0</td>\n",
       "      <td>42.0</td>\n",
       "    </tr>\n",
       "    <tr>\n",
       "      <th>2020-01-26</th>\n",
       "      <td>52.0</td>\n",
       "      <td>2118.0</td>\n",
       "      <td>56.0</td>\n",
       "    </tr>\n",
       "  </tbody>\n",
       "</table>\n",
       "</div>"
      ],
      "text/plain": [
       "                 Recovered  Confirmed  Deaths\n",
       "ObservationDate                              \n",
       "2020-01-22            28.0      555.0    17.0\n",
       "2020-01-23            30.0      653.0    18.0\n",
       "2020-01-24            36.0      941.0    26.0\n",
       "2020-01-25            39.0     1438.0    42.0\n",
       "2020-01-26            52.0     2118.0    56.0"
      ]
     },
     "execution_count": 9,
     "metadata": {},
     "output_type": "execute_result"
    }
   ],
   "source": [
    "#groupby date \n",
    "date_df = df.groupby(['ObservationDate']).agg({'Recovered':'sum', 'Confirmed':'sum', 'Deaths':'sum'})\n",
    "date_df.head()"
   ]
  },
  {
   "cell_type": "code",
   "execution_count": 10,
   "metadata": {},
   "outputs": [
    {
     "data": {
      "text/html": [
       "<div>\n",
       "<style scoped>\n",
       "    .dataframe tbody tr th:only-of-type {\n",
       "        vertical-align: middle;\n",
       "    }\n",
       "\n",
       "    .dataframe tbody tr th {\n",
       "        vertical-align: top;\n",
       "    }\n",
       "\n",
       "    .dataframe thead th {\n",
       "        text-align: right;\n",
       "    }\n",
       "</style>\n",
       "<table border=\"1\" class=\"dataframe\">\n",
       "  <thead>\n",
       "    <tr style=\"text-align: right;\">\n",
       "      <th></th>\n",
       "      <th>Recovered</th>\n",
       "      <th>Confirmed</th>\n",
       "      <th>Deaths</th>\n",
       "    </tr>\n",
       "  </thead>\n",
       "  <tbody>\n",
       "    <tr>\n",
       "      <th>Recovered</th>\n",
       "      <td>1.000000</td>\n",
       "      <td>0.990057</td>\n",
       "      <td>0.995425</td>\n",
       "    </tr>\n",
       "    <tr>\n",
       "      <th>Confirmed</th>\n",
       "      <td>0.990057</td>\n",
       "      <td>1.000000</td>\n",
       "      <td>0.995628</td>\n",
       "    </tr>\n",
       "    <tr>\n",
       "      <th>Deaths</th>\n",
       "      <td>0.995425</td>\n",
       "      <td>0.995628</td>\n",
       "      <td>1.000000</td>\n",
       "    </tr>\n",
       "  </tbody>\n",
       "</table>\n",
       "</div>"
      ],
      "text/plain": [
       "           Recovered  Confirmed    Deaths\n",
       "Recovered   1.000000   0.990057  0.995425\n",
       "Confirmed   0.990057   1.000000  0.995628\n",
       "Deaths      0.995425   0.995628  1.000000"
      ]
     },
     "execution_count": 10,
     "metadata": {},
     "output_type": "execute_result"
    }
   ],
   "source": [
    "date_df.corr()"
   ]
  },
  {
   "cell_type": "markdown",
   "metadata": {},
   "source": [
    "#### Discovery"
   ]
  },
  {
   "cell_type": "code",
   "execution_count": 11,
   "metadata": {},
   "outputs": [
    {
     "name": "stdout",
     "output_type": "stream",
     "text": [
      "Total Number of countries reporting cases: 220\n",
      "Approx. Confirmed cases worldwide: 3041764\n",
      "Approx. Deaths worldwide: 211167\n",
      "Approx. Recovered cases worldwide: 893967\n"
     ]
    }
   ],
   "source": [
    "countries = df['Country/Region'].unique()\n",
    "print(f\"Total Number of countries reporting cases: {len(countries)}\")\n",
    "print(f\"Approx. Confirmed cases worldwide: {int(date_df['Confirmed'].iloc[-1])}\")\n",
    "print(f\"Approx. Deaths worldwide: {int(date_df['Deaths'].iloc[-1])}\")\n",
    "print(f\"Approx. Recovered cases worldwide: {int(date_df['Recovered'].iloc[-1])}\")"
   ]
  },
  {
   "cell_type": "code",
   "execution_count": 12,
   "metadata": {},
   "outputs": [
    {
     "name": "stdout",
     "output_type": "stream",
     "text": [
      "Approx. Active cases worldwide: 1936630\n",
      "Approx. Closed cases worldwide: 1105134\n"
     ]
    }
   ],
   "source": [
    "#Active = Confirmed - Deaths - Recovered\n",
    "print(f\"Approx. Active cases worldwide: {int(date_df['Confirmed'].iloc[-1]) - int(date_df['Deaths'].iloc[-1]) - int(date_df['Recovered'].iloc[-1])}\")\n",
    "\n",
    "\n",
    "#Closed = Deaths + Recovered\n",
    "print(f\"Approx. Closed cases worldwide: {int(date_df['Deaths'].iloc[-1]) + int(date_df['Recovered'].iloc[-1])}\") "
   ]
  },
  {
   "cell_type": "code",
   "execution_count": 13,
   "metadata": {},
   "outputs": [
    {
     "name": "stdout",
     "output_type": "stream",
     "text": [
      "Approx. Confirmed cases Per Day: 31358\n",
      "Approx. Deaths cases Per Day: 2176\n",
      "Approx. Recovered cases Per Day: 9216\n"
     ]
    }
   ],
   "source": [
    "# Approx. cases per day= case/#rows(total days)\n",
    "print(f\"Approx. Confirmed cases Per Day: {int(int(date_df['Confirmed'].iloc[-1]) / date_df.shape[0])}\")\n",
    "print(f\"Approx. Deaths cases Per Day: {int(int(date_df['Deaths'].iloc[-1]) / date_df.shape[0])}\")\n",
    "print(f\"Approx. Recovered cases Per Day: {int(int(date_df['Recovered'].iloc[-1]) / date_df.shape[0])}\")"
   ]
  },
  {
   "cell_type": "code",
   "execution_count": 14,
   "metadata": {},
   "outputs": [
    {
     "data": {
      "text/plain": [
       "(array([ 0,  1,  2,  3,  4,  5,  6,  7,  8,  9, 10, 11, 12, 13, 14, 15, 16,\n",
       "        17, 18, 19, 20, 21, 22, 23, 24, 25, 26, 27, 28, 29, 30, 31, 32, 33,\n",
       "        34, 35, 36, 37, 38, 39, 40, 41, 42, 43, 44, 45, 46, 47, 48, 49, 50,\n",
       "        51, 52, 53, 54, 55, 56, 57, 58, 59, 60, 61, 62, 63, 64, 65, 66, 67,\n",
       "        68, 69, 70, 71, 72, 73, 74, 75, 76, 77, 78, 79, 80, 81, 82, 83, 84,\n",
       "        85, 86, 87, 88, 89, 90, 91, 92, 93, 94, 95, 96]),\n",
       " <a list of 97 Text xticklabel objects>)"
      ]
     },
     "execution_count": 14,
     "metadata": {},
     "output_type": "execute_result"
    },
    {
     "data": {
      "image/png": "[encoded data removed]",
      "text/plain": [
       "<Figure size 1080x504 with 1 Axes>"
      ]
     },
     "metadata": {
      "needs_background": "light"
     },
     "output_type": "display_data"
    }
   ],
   "source": [
    "#plot Active cases per date\n",
    "plt.figure(figsize=(15,7))\n",
    "sns.barplot(x=date_df.index.date, y=date_df['Confirmed'] - date_df['Deaths'] - date_df['Recovered'])\n",
    "\n",
    "plt.xlabel(\"Date\")\n",
    "plt.ylabel(\"Number of Cases\")\n",
    "plt.title(\"Active Cases over time\")\n",
    "plt.xticks(rotation=90)"
   ]
  },
  {
   "cell_type": "markdown",
   "metadata": {},
   "source": [
    "#### Growth rate"
   ]
  },
  {
   "cell_type": "code",
   "execution_count": 15,
   "metadata": {},
   "outputs": [
    {
     "data": {
      "text/plain": [
       "<matplotlib.legend.Legend at 0x1fc6988ae08>"
      ]
     },
     "execution_count": 15,
     "metadata": {},
     "output_type": "execute_result"
    },
    {
     "data": {
      "image/png": "[encoded data removed]",
      "text/plain": [
       "<Figure size 936x504 with 1 Axes>"
      ]
     },
     "metadata": {
      "needs_background": "light"
     },
     "output_type": "display_data"
    }
   ],
   "source": [
    "plt.figure(figsize=(13,7))\n",
    "plt.plot(date_df['Recovered'], marker=\"^\", label=\"Recovered Cases\")\n",
    "plt.plot(date_df['Confirmed'], marker=\"o\", label=\"Confirmed Cases\")\n",
    "plt.plot(date_df['Deaths'], marker=\"*\", label=\"Deaths Cases\")\n",
    "\n",
    "\n",
    "plt.ylabel(\"Number of Cases\")\n",
    "plt.xlabel(\"Date\")\n",
    "plt.title(\"Growth Rate of Types of Cases\")\n",
    "                 \n",
    "plt.legend()"
   ]
  },
  {
   "cell_type": "markdown",
   "metadata": {},
   "source": [
    "#### Linear Regression - recovered cases "
   ]
  },
  {
   "cell_type": "code",
   "execution_count": 16,
   "metadata": {},
   "outputs": [],
   "source": [
    "#create new col 'Days Since' \n",
    "date_df['Days Since'] = date_df.index - date_df.index[0]\n",
    "date_df['Days Since'] = date_df['Days Since'].dt.days"
   ]
  },
  {
   "cell_type": "code",
   "execution_count": 17,
   "metadata": {},
   "outputs": [],
   "source": [
    "rows = date_df.shape[0]"
   ]
  },
  {
   "cell_type": "code",
   "execution_count": 18,
   "metadata": {},
   "outputs": [],
   "source": [
    "trainer = date_df.iloc[:int(rows*0.95)]\n",
    "tester = date_df.iloc[int(rows*0.25):]"
   ]
  },
  {
   "cell_type": "code",
   "execution_count": 19,
   "metadata": {},
   "outputs": [],
   "source": [
    "#Initializing Linear Reg Model\n",
    "lin_reg = LinearRegression(normalize=True)"
   ]
  },
  {
   "cell_type": "code",
   "execution_count": 20,
   "metadata": {},
   "outputs": [
    {
     "data": {
      "text/plain": [
       "LinearRegression(copy_X=True, fit_intercept=True, n_jobs=None, normalize=True)"
      ]
     },
     "execution_count": 20,
     "metadata": {},
     "output_type": "execute_result"
    }
   ],
   "source": [
    "#Fitting model on training data\n",
    "lin_reg.fit(np.array(trainer['Days Since']).reshape(-1,1) , np.array(trainer['Recovered']).reshape(-1,1))"
   ]
  },
  {
   "cell_type": "code",
   "execution_count": 21,
   "metadata": {},
   "outputs": [
    {
     "data": {
      "text/plain": [
       "150523.50948521402"
      ]
     },
     "execution_count": 21,
     "metadata": {},
     "output_type": "execute_result"
    }
   ],
   "source": [
    "pred_test_lin = lin_reg.predict(np.array(tester['Days Since']).reshape(-1,1))\n",
    "\n",
    "#very high error - linear regession is not the best model\n",
    "rms_error_lin = np.sqrt(mean_squared_error(tester['Recovered'], pred_test_lin))\n",
    "rms_error_lin"
   ]
  },
  {
   "cell_type": "code",
   "execution_count": 43,
   "metadata": {},
   "outputs": [
    {
     "data": {
      "text/plain": [
       "<matplotlib.legend.Legend at 0x1fc6a523ac8>"
      ]
     },
     "execution_count": 43,
     "metadata": {},
     "output_type": "execute_result"
    },
    {
     "data": {
      "image/png": "[encoded data removed]",
      "text/plain": [
       "<Figure size 864x432 with 1 Axes>"
      ]
     },
     "metadata": {
      "needs_background": "light"
     },
     "output_type": "display_data"
    }
   ],
   "source": [
    "plt.figure(figsize=(12, 6))\n",
    "\n",
    "pred_linreg = lin_reg.predict(np.array(date_df['Days Since']).reshape(-1,1))\n",
    "\n",
    "plt.plot(date_df['Recovered'], label=\"Actul Recovered Casses\")\n",
    "plt.plot(date_df.index, pred_linreg, linestyle='--', label=\"Predicted Recovered Cases\", color='black')\n",
    "\n",
    "date_object = pd.to_datetime('20200430', format='%Y%m%d', errors='ignore')\n",
    "plt.scatter(date_object, 447030.288, s=100, color='red')\n",
    "\n",
    "plt.xlabel(\"Date\")\n",
    "plt.ylabel(\"Recovered Cases\")\n",
    "plt.title(\"Recovered Cases Linear Regression Prediction\")\n",
    "plt.legend()"
   ]
  },
  {
   "cell_type": "markdown",
   "metadata": {},
   "source": [
    "#### Support Vector Machine Model Regressor"
   ]
  },
  {
   "cell_type": "code",
   "execution_count": 23,
   "metadata": {},
   "outputs": [],
   "source": [
    "trainer = date_df.iloc[:int(rows*0.75)]\n",
    "tester = date_df.iloc[int(rows*0.25):]"
   ]
  },
  {
   "cell_type": "code",
   "execution_count": 24,
   "metadata": {},
   "outputs": [],
   "source": [
    "#Initializing SVR Model\n",
    "svm = SVR(C=1, degree=5, kernel='poly', epsilon=0.01)"
   ]
  },
  {
   "cell_type": "code",
   "execution_count": 25,
   "metadata": {},
   "outputs": [
    {
     "name": "stderr",
     "output_type": "stream",
     "text": [
      "C:\\Anaconda\\lib\\site-packages\\sklearn\\utils\\validation.py:760: DataConversionWarning: A column-vector y was passed when a 1d array was expected. Please change the shape of y to (n_samples, ), for example using ravel().\n",
      "  y = column_or_1d(y, warn=True)\n"
     ]
    },
    {
     "data": {
      "text/plain": [
       "SVR(C=1, cache_size=200, coef0=0.0, degree=5, epsilon=0.01, gamma='scale',\n",
       "    kernel='poly', max_iter=-1, shrinking=True, tol=0.001, verbose=False)"
      ]
     },
     "execution_count": 25,
     "metadata": {},
     "output_type": "execute_result"
    }
   ],
   "source": [
    "#Fitting model to training data\n",
    "svm.fit(np.array(trainer['Days Since']).reshape(-1,1), np.array(trainer['Recovered']).reshape(-1,1))"
   ]
  },
  {
   "cell_type": "code",
   "execution_count": 26,
   "metadata": {},
   "outputs": [
    {
     "data": {
      "text/plain": [
       "25987.058294887953"
      ]
     },
     "execution_count": 26,
     "metadata": {},
     "output_type": "execute_result"
    }
   ],
   "source": [
    "pred_test_svm = svm.predict(np.array(tester['Days Since']).reshape(-1,1))\n",
    "\n",
    "#SVR has very high error as well - still not the best model\n",
    "rms_error_svm = np.sqrt(mean_squared_error(tester['Recovered'], pred_test_svm))\n",
    "rms_error_svm"
   ]
  },
  {
   "cell_type": "code",
   "execution_count": 44,
   "metadata": {},
   "outputs": [
    {
     "data": {
      "text/plain": [
       "<matplotlib.legend.Legend at 0x1fc6a5fc448>"
      ]
     },
     "execution_count": 44,
     "metadata": {},
     "output_type": "execute_result"
    },
    {
     "data": {
      "image/png": "[encoded data removed]",
      "text/plain": [
       "<Figure size 864x432 with 1 Axes>"
      ]
     },
     "metadata": {
      "needs_background": "light"
     },
     "output_type": "display_data"
    }
   ],
   "source": [
    "plt.figure(figsize=(12,6))\n",
    "\n",
    "pred_svm = svm.predict(np.array(date_df['Days Since']).reshape(-1,1))\n",
    "\n",
    "plt.plot(date_df['Recovered'], label=\"Actual Recovered Cases\")\n",
    "plt.plot(date_df.index, pred_svm, linestyle='--', label=\"Best Fit Curve for SVR\", color='black')\n",
    "\n",
    "date_object = pd.to_datetime('20200430', format='%Y%m%d', errors='ignore')\n",
    "plt.scatter(date_object, 1017263.341, s=100, color='red')\n",
    "\n",
    "plt.xlabel(\"Date\")\n",
    "plt.ylabel(\"Recovered Cases\")\n",
    "plt.title(\"Recovered Cases Support Vector Machine Regressor Prediction\")\n",
    "\n",
    "plt.legend()"
   ]
  },
  {
   "cell_type": "markdown",
   "metadata": {},
   "source": [
    "#### Holt's Winter model - exponential smoothing"
   ]
  },
  {
   "cell_type": "code",
   "execution_count": 28,
   "metadata": {},
   "outputs": [],
   "source": [
    "model_train = date_df.iloc[:int(rows*0.95)]\n",
    "model_test = date_df.iloc[int(rows*0.95):]\n",
    "\n",
    "pred_holt = model_test.copy()"
   ]
  },
  {
   "cell_type": "code",
   "execution_count": 29,
   "metadata": {},
   "outputs": [
    {
     "name": "stderr",
     "output_type": "stream",
     "text": [
      "C:\\Anaconda\\lib\\site-packages\\statsmodels\\tsa\\holtwinters.py:725: RuntimeWarning: invalid value encountered in less_equal\n",
      "  loc = initial_p <= lb\n",
      "C:\\Anaconda\\lib\\site-packages\\statsmodels\\tsa\\holtwinters.py:731: RuntimeWarning: invalid value encountered in greater_equal\n",
      "  loc = initial_p >= ub\n"
     ]
    }
   ],
   "source": [
    "Ex_sm = ExponentialSmoothing(np.asarray(model_train['Recovered']), seasonal_periods=8, trend='add', seasonal='mul').fit()"
   ]
  },
  {
   "cell_type": "code",
   "execution_count": 30,
   "metadata": {},
   "outputs": [
    {
     "data": {
      "text/plain": [
       "17505.20637360353"
      ]
     },
     "execution_count": 30,
     "metadata": {},
     "output_type": "execute_result"
    }
   ],
   "source": [
    "pred_holt['HoltWM']=Ex_sm.forecast(len(model_test))\n",
    "\n",
    "rms_error_holt = np.sqrt(mean_squared_error(pred_holt['Recovered'], pred_holt['HoltWM']))\n",
    "rms_error_holt"
   ]
  },
  {
   "cell_type": "code",
   "execution_count": 46,
   "metadata": {},
   "outputs": [
    {
     "data": {
      "text/plain": [
       "<matplotlib.legend.Legend at 0x1fc6a81e588>"
      ]
     },
     "execution_count": 46,
     "metadata": {},
     "output_type": "execute_result"
    },
    {
     "data": {
      "image/png": "[encoded data removed]",
      "text/plain": [
       "<Figure size 864x432 with 1 Axes>"
      ]
     },
     "metadata": {
      "needs_background": "light"
     },
     "output_type": "display_data"
    }
   ],
   "source": [
    "plt.figure(figsize=(12,6))\n",
    "\n",
    "plt.plot(date_df['Recovered'], label=\"Actual Recovered Cases\")\n",
    "plt.plot(model_train.Recovered, label=\"Training set\", marker='*')\n",
    "pred_holt['HoltWM'].plot(label=\"Holt's Winter Model Prediction\", marker='^')\n",
    "\n",
    "date_object = pd.to_datetime('20200430', format='%Y%m%d', errors='ignore')\n",
    "plt.scatter(date_object, 948588.749, s=100, color='red')\n",
    "\n",
    "plt.ylabel(\"Recovered Cases\")\n",
    "plt.xlabel(\"Date\")\n",
    "plt.title(\"Recovered Cases Holt's Winter Model Prediction\")\n",
    "\n",
    "plt.xticks(rotation=360)\n",
    "plt.legend()"
   ]
  },
  {
   "cell_type": "markdown",
   "metadata": {},
   "source": [
    "#### Model Comparison"
   ]
  },
  {
   "cell_type": "code",
   "execution_count": 32,
   "metadata": {},
   "outputs": [
    {
     "name": "stdout",
     "output_type": "stream",
     "text": [
      "[870749.4777816287, 894224.0691088504, 926732.5874790562, 948588.7494594525, 994870.6971927033]\n"
     ]
    }
   ],
   "source": [
    "new_date = []\n",
    "new_pred_lr = []\n",
    "new_pred_svm = []\n",
    "new_pred_holt = []\n",
    "\n",
    "for day in range(0,5):\n",
    "    new_date.append(date_df.index[-1] + timedelta(days=day))\n",
    "    new_pred_lr.append(lin_reg.predict(np.array(date_df['Days Since'].max() + day).reshape(-1,1))[0][0])\n",
    "    new_pred_svm.append(svm.predict(np.array(date_df['Days Since'].max() + day).reshape(-1,1))[0])\n",
    "    new_pred_holt.append(Ex_sm.forecast((len(model_test)+day))[-1])\n",
    "print(new_pred_holt)"
   ]
  },
  {
   "cell_type": "code",
   "execution_count": 33,
   "metadata": {},
   "outputs": [],
   "source": [
    "pd.set_option('display.float_format', lambda x: '%.3f' % x)\n",
    "model_predictions=pd.DataFrame(zip(new_date,new_pred_lr, new_pred_svm, new_pred_holt), columns=[\"Dates\", \"Linear Regression Prediction\", \"SVM Prediction\", \"Holt's Winter Model Prediction\"])"
   ]
  },
  {
   "cell_type": "code",
   "execution_count": 34,
   "metadata": {},
   "outputs": [
    {
     "data": {
      "text/html": [
       "<div>\n",
       "<style scoped>\n",
       "    .dataframe tbody tr th:only-of-type {\n",
       "        vertical-align: middle;\n",
       "    }\n",
       "\n",
       "    .dataframe tbody tr th {\n",
       "        vertical-align: top;\n",
       "    }\n",
       "\n",
       "    .dataframe thead th {\n",
       "        text-align: right;\n",
       "    }\n",
       "</style>\n",
       "<table border=\"1\" class=\"dataframe\">\n",
       "  <thead>\n",
       "    <tr style=\"text-align: right;\">\n",
       "      <th></th>\n",
       "      <th>Dates</th>\n",
       "      <th>Linear Regression Prediction</th>\n",
       "      <th>SVM Prediction</th>\n",
       "      <th>Holt's Winter Model Prediction</th>\n",
       "    </tr>\n",
       "  </thead>\n",
       "  <tbody>\n",
       "    <tr>\n",
       "      <th>0</th>\n",
       "      <td>2020-04-27</td>\n",
       "      <td>429569.639</td>\n",
       "      <td>874025.551</td>\n",
       "      <td>870749.478</td>\n",
       "    </tr>\n",
       "    <tr>\n",
       "      <th>1</th>\n",
       "      <td>2020-04-28</td>\n",
       "      <td>435389.855</td>\n",
       "      <td>919823.384</td>\n",
       "      <td>894224.069</td>\n",
       "    </tr>\n",
       "    <tr>\n",
       "      <th>2</th>\n",
       "      <td>2020-04-29</td>\n",
       "      <td>441210.071</td>\n",
       "      <td>967549.232</td>\n",
       "      <td>926732.587</td>\n",
       "    </tr>\n",
       "    <tr>\n",
       "      <th>3</th>\n",
       "      <td>2020-04-30</td>\n",
       "      <td>447030.288</td>\n",
       "      <td>1017263.341</td>\n",
       "      <td>948588.749</td>\n",
       "    </tr>\n",
       "    <tr>\n",
       "      <th>4</th>\n",
       "      <td>2020-05-01</td>\n",
       "      <td>452850.504</td>\n",
       "      <td>1069027.196</td>\n",
       "      <td>994870.697</td>\n",
       "    </tr>\n",
       "  </tbody>\n",
       "</table>\n",
       "</div>"
      ],
      "text/plain": [
       "       Dates  Linear Regression Prediction  SVM Prediction  \\\n",
       "0 2020-04-27                    429569.639      874025.551   \n",
       "1 2020-04-28                    435389.855      919823.384   \n",
       "2 2020-04-29                    441210.071      967549.232   \n",
       "3 2020-04-30                    447030.288     1017263.341   \n",
       "4 2020-05-01                    452850.504     1069027.196   \n",
       "\n",
       "   Holt's Winter Model Prediction  \n",
       "0                      870749.478  \n",
       "1                      894224.069  \n",
       "2                      926732.587  \n",
       "3                      948588.749  \n",
       "4                      994870.697  "
      ]
     },
     "execution_count": 34,
     "metadata": {},
     "output_type": "execute_result"
    }
   ],
   "source": [
    "model_predictions"
   ]
  },
  {
   "cell_type": "raw",
   "metadata": {},
   "source": [
    "#export model_predictions dataframe to .csv file\n",
    "model_predictions.to_csv('covid_model_predictions.csv', index=False)"
   ]
  },
  {
   "cell_type": "raw",
   "metadata": {},
   "source": [
    "#export original dataframe, df to .csv file\n",
    "df.to_csv('covid_clean.csv', index=True)"
   ]
  },
  {
   "cell_type": "markdown",
   "metadata": {},
   "source": [
    "#### Reformating dataframe - visualizations"
   ]
  },
  {
   "cell_type": "code",
   "execution_count": 35,
   "metadata": {},
   "outputs": [
    {
     "data": {
      "text/html": [
       "<div>\n",
       "<style scoped>\n",
       "    .dataframe tbody tr th:only-of-type {\n",
       "        vertical-align: middle;\n",
       "    }\n",
       "\n",
       "    .dataframe tbody tr th {\n",
       "        vertical-align: top;\n",
       "    }\n",
       "\n",
       "    .dataframe thead th {\n",
       "        text-align: right;\n",
       "    }\n",
       "</style>\n",
       "<table border=\"1\" class=\"dataframe\">\n",
       "  <thead>\n",
       "    <tr style=\"text-align: right;\">\n",
       "      <th></th>\n",
       "      <th>ObservationDate</th>\n",
       "      <th>Country/Region</th>\n",
       "      <th>Status</th>\n",
       "      <th>value</th>\n",
       "    </tr>\n",
       "  </thead>\n",
       "  <tbody>\n",
       "    <tr>\n",
       "      <th>0</th>\n",
       "      <td>2020-01-22</td>\n",
       "      <td>Mainland China</td>\n",
       "      <td>Confirmed</td>\n",
       "      <td>1.000</td>\n",
       "    </tr>\n",
       "    <tr>\n",
       "      <th>1</th>\n",
       "      <td>2020-01-22</td>\n",
       "      <td>Mainland China</td>\n",
       "      <td>Confirmed</td>\n",
       "      <td>14.000</td>\n",
       "    </tr>\n",
       "    <tr>\n",
       "      <th>2</th>\n",
       "      <td>2020-01-22</td>\n",
       "      <td>Mainland China</td>\n",
       "      <td>Confirmed</td>\n",
       "      <td>6.000</td>\n",
       "    </tr>\n",
       "    <tr>\n",
       "      <th>3</th>\n",
       "      <td>2020-01-22</td>\n",
       "      <td>Mainland China</td>\n",
       "      <td>Confirmed</td>\n",
       "      <td>1.000</td>\n",
       "    </tr>\n",
       "    <tr>\n",
       "      <th>4</th>\n",
       "      <td>2020-01-22</td>\n",
       "      <td>Mainland China</td>\n",
       "      <td>Confirmed</td>\n",
       "      <td>0.000</td>\n",
       "    </tr>\n",
       "  </tbody>\n",
       "</table>\n",
       "</div>"
      ],
      "text/plain": [
       "  ObservationDate  Country/Region     Status  value\n",
       "0      2020-01-22  Mainland China  Confirmed  1.000\n",
       "1      2020-01-22  Mainland China  Confirmed 14.000\n",
       "2      2020-01-22  Mainland China  Confirmed  6.000\n",
       "3      2020-01-22  Mainland China  Confirmed  1.000\n",
       "4      2020-01-22  Mainland China  Confirmed  0.000"
      ]
     },
     "execution_count": 35,
     "metadata": {},
     "output_type": "execute_result"
    }
   ],
   "source": [
    "melt_df = pd.melt(df, id_vars=['ObservationDate', 'Country/Region'], var_name=\"Status\")\n",
    "melt_df.head()"
   ]
  },
  {
   "cell_type": "raw",
   "metadata": {},
   "source": [
    "#export melted dataframe to .csv file\n",
    "melt_df.to_csv('covid_melted.csv', index=True)"
   ]
  },
  {
   "cell_type": "code",
   "execution_count": null,
   "metadata": {},
   "outputs": [],
   "source": []
  }
 ],
 "metadata": {
  "kernelspec": {
   "display_name": "Python 3",
   "language": "python",
   "name": "python3"
  },
  "language_info": {
   "codemirror_mode": {
    "name": "ipython",
    "version": 3
   },
   "file_extension": ".py",
   "mimetype": "text/x-python",
   "name": "python",
   "nbconvert_exporter": "python",
   "pygments_lexer": "ipython3",
   "version": "3.7.7"
  }
 },
 "nbformat": 4,
 "nbformat_minor": 4
}

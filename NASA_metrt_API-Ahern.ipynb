{
 "cells": [
  {
   "cell_type": "code",
   "execution_count": 1,
   "metadata": {},
   "outputs": [],
   "source": [
    "import requests         #connecting with website\n",
    "import json             #encoding/decoding JSON data\n",
    "import pandas as pd     #building dataframe"
   ]
  },
  {
   "cell_type": "markdown",
   "metadata": {},
   "source": [
    "### Accessing data"
   ]
  },
  {
   "cell_type": "code",
   "execution_count": 2,
   "metadata": {},
   "outputs": [],
   "source": [
    "#URL to SODA (Socrata Open Data API) - provides programmatic access to this dataset including the ability to filter, query, and aggregate data.\n",
    "url = r\"https://data.nasa.gov/resource/gh4g-9sfh.json\""
   ]
  },
  {
   "cell_type": "code",
   "execution_count": 3,
   "metadata": {},
   "outputs": [
    {
     "data": {
      "text/plain": [
       "<Response [200]>"
      ]
     },
     "execution_count": 3,
     "metadata": {},
     "output_type": "execute_result"
    }
   ],
   "source": [
    "#requests access to SODA API; Response [200] - authorized connection\n",
    "response = requests.get(url)\n",
    "response"
   ]
  },
  {
   "cell_type": "code",
   "execution_count": 4,
   "metadata": {},
   "outputs": [
    {
     "data": {
      "text/plain": [
       "list"
      ]
     },
     "execution_count": 4,
     "metadata": {},
     "output_type": "execute_result"
    }
   ],
   "source": [
    "#pull response from website as JSON structured data and assign it to a variable metrtdata\n",
    "metrtdata = response.json()\n",
    "\n",
    "#check data type\n",
    "type(metrtdata)"
   ]
  },
  {
   "cell_type": "markdown",
   "metadata": {},
   "source": [
    "### Investigating Data"
   ]
  },
  {
   "cell_type": "markdown",
   "metadata": {},
   "source": [
    "Assignment: Extract the following features from that data to create a dataframe(columns should be in the order listed below):\n",
    "\n",
    "    ID, Year, Fall, Name, Name Type, Mass, Latitude, Longitude"
   ]
  },
  {
   "cell_type": "code",
   "execution_count": 5,
   "metadata": {},
   "outputs": [
    {
     "data": {
      "text/plain": [
       "{'name': 'Aachen',\n",
       " 'id': '1',\n",
       " 'nametype': 'Valid',\n",
       " 'recclass': 'L5',\n",
       " 'mass': '21',\n",
       " 'fall': 'Fell',\n",
       " 'year': '1880-01-01T00:00:00.000',\n",
       " 'reclat': '50.775000',\n",
       " 'reclong': '6.083330',\n",
       " 'geolocation': {'latitude': '50.775', 'longitude': '6.08333'}}"
      ]
     },
     "execution_count": 5,
     "metadata": {},
     "output_type": "execute_result"
    }
   ],
   "source": [
    "#look at first item in metrtdata\n",
    "metrtdata[0]"
   ]
  },
  {
   "cell_type": "code",
   "execution_count": 6,
   "metadata": {},
   "outputs": [
    {
     "data": {
      "text/plain": [
       "{'name': 'Adhi Kot',\n",
       " 'id': '379',\n",
       " 'nametype': 'Valid',\n",
       " 'recclass': 'EH4',\n",
       " 'mass': '4239',\n",
       " 'fall': 'Fell',\n",
       " 'year': '1919-01-01T00:00:00.000',\n",
       " 'reclat': '32.100000',\n",
       " 'reclong': '71.800000',\n",
       " 'geolocation': {'latitude': '32.1', 'longitude': '71.8'}}"
      ]
     },
     "execution_count": 6,
     "metadata": {},
     "output_type": "execute_result"
    }
   ],
   "source": [
    "#look at fifth item in metrtdata to see similarity\n",
    "metrtdata[5]"
   ]
  },
  {
   "cell_type": "markdown",
   "metadata": {},
   "source": [
    "Access to ID, Name, Name Type, Mass, etc. can be found in this first layer"
   ]
  },
  {
   "cell_type": "code",
   "execution_count": 7,
   "metadata": {},
   "outputs": [
    {
     "data": {
      "text/plain": [
       "dict_keys(['name', 'id', 'nametype', 'recclass', 'mass', 'fall', 'year', 'reclat', 'reclong', 'geolocation'])"
      ]
     },
     "execution_count": 7,
     "metadata": {},
     "output_type": "execute_result"
    }
   ],
   "source": [
    "#latitude and longitude are in list in next layer as a value for the key geolocation\n",
    "metrtdata[0].keys()"
   ]
  },
  {
   "cell_type": "code",
   "execution_count": 8,
   "metadata": {},
   "outputs": [
    {
     "data": {
      "text/plain": [
       "{'latitude': '50.775', 'longitude': '6.08333'}"
      ]
     },
     "execution_count": 8,
     "metadata": {},
     "output_type": "execute_result"
    }
   ],
   "source": [
    "metrtdata[0]['geolocation']"
   ]
  },
  {
   "cell_type": "code",
   "execution_count": 10,
   "metadata": {},
   "outputs": [
    {
     "data": {
      "text/plain": [
       "'50.775000'"
      ]
     },
     "execution_count": 10,
     "metadata": {},
     "output_type": "execute_result"
    }
   ],
   "source": [
    "#looking closer - reclat = latitude and reclong = longitude with more accuracy\n",
    "metrtdata[0]['reclat']"
   ]
  },
  {
   "cell_type": "markdown",
   "metadata": {},
   "source": [
    "### Collecting Data"
   ]
  },
  {
   "cell_type": "code",
   "execution_count": 11,
   "metadata": {},
   "outputs": [],
   "source": [
    "#create empty lists to fill data in\n",
    "idls = []\n",
    "yrls = []\n",
    "falls = []\n",
    "namels = []\n",
    "name_typels = []\n",
    "massls = []\n",
    "latls = []\n",
    "longls = []"
   ]
  },
  {
   "cell_type": "code",
   "execution_count": 12,
   "metadata": {},
   "outputs": [],
   "source": [
    "def cleanText(text):\n",
    "    import re\n",
    "    \n",
    "    #.compile -> what patteren to look for\n",
    "    clean = re.compile('T00:00:00.000') #regular expression that looks for any pattern in a string that has T00:00:00.000\n",
    "    \n",
    "    #.sub (substitute) -> what to replace the pattern with\n",
    "    return re.sub(clean, '', text)"
   ]
  },
  {
   "cell_type": "code",
   "execution_count": 13,
   "metadata": {},
   "outputs": [
    {
     "data": {
      "text/plain": [
       "dict_keys(['name', 'id', 'nametype', 'recclass', 'mass', 'fall', 'year', 'reclat', 'reclong', 'geolocation'])"
      ]
     },
     "execution_count": 13,
     "metadata": {},
     "output_type": "execute_result"
    }
   ],
   "source": [
    "metrtdata[0].keys()"
   ]
  },
  {
   "cell_type": "code",
   "execution_count": 14,
   "metadata": {},
   "outputs": [],
   "source": [
    "#extract values for the meteorite dataset\n",
    "for mite in metrtdata:\n",
    "    \n",
    "    try: id = mite['id']\n",
    "    except: id = None\n",
    "        \n",
    "    try: yr = cleanText(mite['year'])\n",
    "    except: yr = None\n",
    "        \n",
    "    try: fall = mite['fall']\n",
    "    except: fall = None\n",
    "        \n",
    "    try: name = mite['name']\n",
    "    except: name = None\n",
    "        \n",
    "    try: nameType = mite['nametype']\n",
    "    except: nameType = None\n",
    "        \n",
    "    try: mass = mite['mass']\n",
    "    except: mass = None\n",
    "        \n",
    "    try: lat = mite['reclat']\n",
    "    except: lat = None\n",
    "        \n",
    "    try: long = mite['reclong']\n",
    "    except: long = None        \n",
    "\n",
    "    idls.append(id)\n",
    "    yrls.append(yr)\n",
    "    falls.append(fall)\n",
    "    namels.append(name)\n",
    "    name_typels.append(nameType)\n",
    "    massls.append(mass)    \n",
    "    latls.append(lat)\n",
    "    longls.append(long)\n",
    "    "
   ]
  },
  {
   "cell_type": "code",
   "execution_count": 15,
   "metadata": {},
   "outputs": [],
   "source": [
    "#verify lists filled correctly (remove #'s to view)\n",
    "\n",
    "#idls\n",
    "#yrls\n",
    "#falls\n",
    "#namels\n",
    "#name_typels\n",
    "#massls\n",
    "#latls\n",
    "#longls"
   ]
  },
  {
   "cell_type": "code",
   "execution_count": 16,
   "metadata": {},
   "outputs": [
    {
     "name": "stdout",
     "output_type": "stream",
     "text": [
      "1000\n",
      "1000\n",
      "1000\n",
      "1000\n",
      "1000\n",
      "1000\n",
      "1000\n",
      "1000\n"
     ]
    }
   ],
   "source": [
    "#verify lists are all the same length\n",
    "\n",
    "print(len(idls))\n",
    "print(len(yrls))\n",
    "print(len(falls))\n",
    "print(len(namels))\n",
    "print(len(name_typels))\n",
    "print(len(massls))\n",
    "print(len(latls))\n",
    "print(len(longls))"
   ]
  },
  {
   "cell_type": "markdown",
   "metadata": {},
   "source": [
    "### Build Dataframe"
   ]
  },
  {
   "cell_type": "code",
   "execution_count": 17,
   "metadata": {},
   "outputs": [
    {
     "data": {
      "text/html": [
       "<div>\n",
       "<style scoped>\n",
       "    .dataframe tbody tr th:only-of-type {\n",
       "        vertical-align: middle;\n",
       "    }\n",
       "\n",
       "    .dataframe tbody tr th {\n",
       "        vertical-align: top;\n",
       "    }\n",
       "\n",
       "    .dataframe thead th {\n",
       "        text-align: right;\n",
       "    }\n",
       "</style>\n",
       "<table border=\"1\" class=\"dataframe\">\n",
       "  <thead>\n",
       "    <tr style=\"text-align: right;\">\n",
       "      <th></th>\n",
       "      <th>ID</th>\n",
       "      <th>Year</th>\n",
       "      <th>Fall</th>\n",
       "      <th>Name</th>\n",
       "      <th>Name Type</th>\n",
       "      <th>Mass</th>\n",
       "      <th>Latitude</th>\n",
       "      <th>Longitude</th>\n",
       "    </tr>\n",
       "  </thead>\n",
       "  <tbody>\n",
       "    <tr>\n",
       "      <th>0</th>\n",
       "      <td>1</td>\n",
       "      <td>1880-01-01</td>\n",
       "      <td>Fell</td>\n",
       "      <td>Aachen</td>\n",
       "      <td>Valid</td>\n",
       "      <td>21</td>\n",
       "      <td>50.775000</td>\n",
       "      <td>6.083330</td>\n",
       "    </tr>\n",
       "    <tr>\n",
       "      <th>1</th>\n",
       "      <td>2</td>\n",
       "      <td>1951-01-01</td>\n",
       "      <td>Fell</td>\n",
       "      <td>Aarhus</td>\n",
       "      <td>Valid</td>\n",
       "      <td>720</td>\n",
       "      <td>56.183330</td>\n",
       "      <td>10.233330</td>\n",
       "    </tr>\n",
       "    <tr>\n",
       "      <th>2</th>\n",
       "      <td>6</td>\n",
       "      <td>1952-01-01</td>\n",
       "      <td>Fell</td>\n",
       "      <td>Abee</td>\n",
       "      <td>Valid</td>\n",
       "      <td>107000</td>\n",
       "      <td>54.216670</td>\n",
       "      <td>-113.000000</td>\n",
       "    </tr>\n",
       "    <tr>\n",
       "      <th>3</th>\n",
       "      <td>10</td>\n",
       "      <td>1976-01-01</td>\n",
       "      <td>Fell</td>\n",
       "      <td>Acapulco</td>\n",
       "      <td>Valid</td>\n",
       "      <td>1914</td>\n",
       "      <td>16.883330</td>\n",
       "      <td>-99.900000</td>\n",
       "    </tr>\n",
       "    <tr>\n",
       "      <th>4</th>\n",
       "      <td>370</td>\n",
       "      <td>1902-01-01</td>\n",
       "      <td>Fell</td>\n",
       "      <td>Achiras</td>\n",
       "      <td>Valid</td>\n",
       "      <td>780</td>\n",
       "      <td>-33.166670</td>\n",
       "      <td>-64.950000</td>\n",
       "    </tr>\n",
       "    <tr>\n",
       "      <th>...</th>\n",
       "      <td>...</td>\n",
       "      <td>...</td>\n",
       "      <td>...</td>\n",
       "      <td>...</td>\n",
       "      <td>...</td>\n",
       "      <td>...</td>\n",
       "      <td>...</td>\n",
       "      <td>...</td>\n",
       "    </tr>\n",
       "    <tr>\n",
       "      <th>995</th>\n",
       "      <td>24009</td>\n",
       "      <td>1934-01-01</td>\n",
       "      <td>Fell</td>\n",
       "      <td>Tirupati</td>\n",
       "      <td>Valid</td>\n",
       "      <td>230</td>\n",
       "      <td>13.633330</td>\n",
       "      <td>79.416670</td>\n",
       "    </tr>\n",
       "    <tr>\n",
       "      <th>996</th>\n",
       "      <td>54823</td>\n",
       "      <td>2011-01-01</td>\n",
       "      <td>Fell</td>\n",
       "      <td>Tissint</td>\n",
       "      <td>Valid</td>\n",
       "      <td>7000</td>\n",
       "      <td>29.481950</td>\n",
       "      <td>-7.611230</td>\n",
       "    </tr>\n",
       "    <tr>\n",
       "      <th>997</th>\n",
       "      <td>24011</td>\n",
       "      <td>1869-01-01</td>\n",
       "      <td>Fell</td>\n",
       "      <td>Tjabe</td>\n",
       "      <td>Valid</td>\n",
       "      <td>20000</td>\n",
       "      <td>-7.083330</td>\n",
       "      <td>111.533330</td>\n",
       "    </tr>\n",
       "    <tr>\n",
       "      <th>998</th>\n",
       "      <td>24012</td>\n",
       "      <td>1922-01-01</td>\n",
       "      <td>Fell</td>\n",
       "      <td>Tjerebon</td>\n",
       "      <td>Valid</td>\n",
       "      <td>16500</td>\n",
       "      <td>-6.666670</td>\n",
       "      <td>106.583330</td>\n",
       "    </tr>\n",
       "    <tr>\n",
       "      <th>999</th>\n",
       "      <td>24019</td>\n",
       "      <td>1905-01-01</td>\n",
       "      <td>Fell</td>\n",
       "      <td>Tomakovka</td>\n",
       "      <td>Valid</td>\n",
       "      <td>600</td>\n",
       "      <td>47.850000</td>\n",
       "      <td>34.766670</td>\n",
       "    </tr>\n",
       "  </tbody>\n",
       "</table>\n",
       "<p>1000 rows × 8 columns</p>\n",
       "</div>"
      ],
      "text/plain": [
       "        ID        Year  Fall       Name Name Type    Mass    Latitude  \\\n",
       "0        1  1880-01-01  Fell     Aachen     Valid      21   50.775000   \n",
       "1        2  1951-01-01  Fell     Aarhus     Valid     720   56.183330   \n",
       "2        6  1952-01-01  Fell       Abee     Valid  107000   54.216670   \n",
       "3       10  1976-01-01  Fell   Acapulco     Valid    1914   16.883330   \n",
       "4      370  1902-01-01  Fell    Achiras     Valid     780  -33.166670   \n",
       "..     ...         ...   ...        ...       ...     ...         ...   \n",
       "995  24009  1934-01-01  Fell   Tirupati     Valid     230   13.633330   \n",
       "996  54823  2011-01-01  Fell    Tissint     Valid    7000   29.481950   \n",
       "997  24011  1869-01-01  Fell      Tjabe     Valid   20000   -7.083330   \n",
       "998  24012  1922-01-01  Fell   Tjerebon     Valid   16500   -6.666670   \n",
       "999  24019  1905-01-01  Fell  Tomakovka     Valid     600   47.850000   \n",
       "\n",
       "       Longitude  \n",
       "0       6.083330  \n",
       "1      10.233330  \n",
       "2    -113.000000  \n",
       "3     -99.900000  \n",
       "4     -64.950000  \n",
       "..           ...  \n",
       "995    79.416670  \n",
       "996    -7.611230  \n",
       "997   111.533330  \n",
       "998   106.583330  \n",
       "999    34.766670  \n",
       "\n",
       "[1000 rows x 8 columns]"
      ]
     },
     "execution_count": 17,
     "metadata": {},
     "output_type": "execute_result"
    }
   ],
   "source": [
    "#match indices of list and zip lists together\n",
    "met_info = list(zip(idls, yrls, falls, namels, name_typels, massls, latls, longls))\n",
    "\n",
    "#create field names\n",
    "fields = ['ID', 'Year', 'Fall', 'Name', 'Name Type', 'Mass', 'Latitude', 'Longitude']\n",
    "\n",
    "#build dataframe of meteorite information\n",
    "df_met = pd.DataFrame(met_info, columns = fields)\n",
    "\n",
    "df_met"
   ]
  },
  {
   "cell_type": "code",
   "execution_count": null,
   "metadata": {},
   "outputs": [],
   "source": []
  }
 ],
 "metadata": {
  "kernelspec": {
   "display_name": "Python 3",
   "language": "python",
   "name": "python3"
  },
  "language_info": {
   "codemirror_mode": {
    "name": "ipython",
    "version": 3
   },
   "file_extension": ".py",
   "mimetype": "text/x-python",
   "name": "python",
   "nbconvert_exporter": "python",
   "pygments_lexer": "ipython3",
   "version": "3.7.6"
  }
 },
 "nbformat": 4,
 "nbformat_minor": 4
}

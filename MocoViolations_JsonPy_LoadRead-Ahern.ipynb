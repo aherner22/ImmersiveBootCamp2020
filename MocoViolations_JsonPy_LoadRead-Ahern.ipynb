{
 "cells": [
  {
   "cell_type": "code",
   "execution_count": 115,
   "metadata": {},
   "outputs": [],
   "source": [
    "import json   #built-in package for encoding and decoding json data\n",
    "import pandas as pd    #library to build dataframe "
   ]
  },
  {
   "cell_type": "code",
   "execution_count": 116,
   "metadata": {},
   "outputs": [],
   "source": [
    "#load in json data\n",
    "filepath = \"MoCoViolations_2018.json\"\n",
    "with open(filepath) as file:\n",
    "    violations = json.load(file)"
   ]
  },
  {
   "cell_type": "code",
   "execution_count": 117,
   "metadata": {},
   "outputs": [
    {
     "data": {
      "text/plain": [
       "dict"
      ]
     },
     "execution_count": 117,
     "metadata": {},
     "output_type": "execute_result"
    }
   ],
   "source": [
    "type(violations)"
   ]
  },
  {
   "cell_type": "code",
   "execution_count": 118,
   "metadata": {},
   "outputs": [
    {
     "data": {
      "text/plain": [
       "dict_keys(['meta', 'data'])"
      ]
     },
     "execution_count": 118,
     "metadata": {},
     "output_type": "execute_result"
    }
   ],
   "source": [
    "violations.keys()"
   ]
  },
  {
   "cell_type": "markdown",
   "metadata": {},
   "source": [
    "### meta dict"
   ]
  },
  {
   "cell_type": "code",
   "execution_count": 145,
   "metadata": {},
   "outputs": [],
   "source": [
    "#violations['meta']"
   ]
  },
  {
   "cell_type": "code",
   "execution_count": 120,
   "metadata": {},
   "outputs": [
    {
     "data": {
      "text/plain": [
       "dict"
      ]
     },
     "execution_count": 120,
     "metadata": {},
     "output_type": "execute_result"
    }
   ],
   "source": [
    "type(violations['meta'])"
   ]
  },
  {
   "cell_type": "code",
   "execution_count": 121,
   "metadata": {},
   "outputs": [
    {
     "data": {
      "text/plain": [
       "dict_keys(['view'])"
      ]
     },
     "execution_count": 121,
     "metadata": {},
     "output_type": "execute_result"
    }
   ],
   "source": [
    "violations['meta'].keys()"
   ]
  },
  {
   "cell_type": "code",
   "execution_count": 122,
   "metadata": {},
   "outputs": [
    {
     "data": {
      "text/plain": [
       "dict"
      ]
     },
     "execution_count": 122,
     "metadata": {},
     "output_type": "execute_result"
    }
   ],
   "source": [
    "type(violations['meta']['view'])"
   ]
  },
  {
   "cell_type": "code",
   "execution_count": 123,
   "metadata": {},
   "outputs": [
    {
     "data": {
      "text/plain": [
       "dict_keys(['id', 'name', 'averageRating', 'category', 'createdAt', 'description', 'displayType', 'downloadCount', 'hideFromCatalog', 'hideFromDataJson', 'indexUpdatedAt', 'newBackend', 'numberOfComments', 'oid', 'provenance', 'publicationAppendEnabled', 'publicationDate', 'publicationGroup', 'publicationStage', 'rowsUpdatedAt', 'rowsUpdatedBy', 'tableId', 'totalTimesRated', 'viewCount', 'viewLastModified', 'viewType', 'columns', 'grants', 'metadata', 'owner', 'query', 'rights', 'tableAuthor', 'tags', 'flags'])"
      ]
     },
     "execution_count": 123,
     "metadata": {},
     "output_type": "execute_result"
    }
   ],
   "source": [
    "violations['meta']['view'].keys()"
   ]
  },
  {
   "cell_type": "code",
   "execution_count": 124,
   "metadata": {},
   "outputs": [
    {
     "data": {
      "text/plain": [
       "[{'inherited': False, 'type': 'viewer', 'flags': ['public']}]"
      ]
     },
     "execution_count": 124,
     "metadata": {},
     "output_type": "execute_result"
    }
   ],
   "source": [
    "violations['meta']['view']['grants']"
   ]
  },
  {
   "cell_type": "code",
   "execution_count": 125,
   "metadata": {},
   "outputs": [
    {
     "data": {
      "text/plain": [
       "{'inherited': False, 'type': 'viewer', 'flags': ['public']}"
      ]
     },
     "execution_count": 125,
     "metadata": {},
     "output_type": "execute_result"
    }
   ],
   "source": [
    "violations['meta']['view']['grants'][0]"
   ]
  },
  {
   "cell_type": "code",
   "execution_count": 126,
   "metadata": {},
   "outputs": [
    {
     "data": {
      "text/plain": [
       "dict_keys(['inherited', 'type', 'flags'])"
      ]
     },
     "execution_count": 126,
     "metadata": {},
     "output_type": "execute_result"
    }
   ],
   "source": [
    "violations['meta']['view']['grants'][0].keys()"
   ]
  },
  {
   "cell_type": "code",
   "execution_count": 127,
   "metadata": {},
   "outputs": [
    {
     "data": {
      "text/plain": [
       "False"
      ]
     },
     "execution_count": 127,
     "metadata": {},
     "output_type": "execute_result"
    }
   ],
   "source": [
    "violations['meta']['view']['grants'][0]['inherited']"
   ]
  },
  {
   "cell_type": "markdown",
   "metadata": {},
   "source": [
    "No information in meta dictionary matches the information we're looking for (date of stop, time of stop, etc)"
   ]
  },
  {
   "cell_type": "markdown",
   "metadata": {},
   "source": [
    "### data dict"
   ]
  },
  {
   "cell_type": "code",
   "execution_count": 146,
   "metadata": {},
   "outputs": [],
   "source": [
    "#list of all violations\n",
    "#violations['data']"
   ]
  },
  {
   "cell_type": "code",
   "execution_count": 129,
   "metadata": {},
   "outputs": [
    {
     "data": {
      "text/plain": [
       "list"
      ]
     },
     "execution_count": 129,
     "metadata": {},
     "output_type": "execute_result"
    }
   ],
   "source": [
    "type(violations['data'])"
   ]
  },
  {
   "cell_type": "code",
   "execution_count": 130,
   "metadata": {
    "scrolled": true
   },
   "outputs": [
    {
     "data": {
      "text/plain": [
       "['row-tb2z_it96-ased',\n",
       " '00000000-0000-0000-D6FB-B97187EB8E43',\n",
       " 0,\n",
       " 1554316021,\n",
       " None,\n",
       " 1554317159,\n",
       " None,\n",
       " '{ }',\n",
       " 'dcf9f7e6-9001-4ac9-b657-94a3cd8b29b8',\n",
       " '2018-12-31T00:00:00',\n",
       " '23:56:00',\n",
       " 'MCP',\n",
       " '1st District, Rockville',\n",
       " 'FAILURE OF VEH. ON HWY. TO DISPLAY LIGHTED LAMPS, ILLUMINATING DEVICE IN UNFAVORABLE VISIBILITY COND',\n",
       " '355 @ FIRST ST',\n",
       " '39.07792',\n",
       " '-77.1404116666667',\n",
       " 'No',\n",
       " 'No',\n",
       " 'No',\n",
       " 'No',\n",
       " 'No',\n",
       " 'Yes',\n",
       " 'No',\n",
       " 'No',\n",
       " 'No',\n",
       " 'No',\n",
       " 'MD',\n",
       " '02 - Automobile',\n",
       " '2007',\n",
       " 'TOYOTA',\n",
       " 'COROLLA',\n",
       " 'BLUE',\n",
       " 'Warning',\n",
       " '22-201.1',\n",
       " 'Transportation Article',\n",
       " 'false',\n",
       " 'BLACK',\n",
       " 'M',\n",
       " 'GERMANTOWN',\n",
       " 'MD',\n",
       " 'MD',\n",
       " 'A - Marked Patrol',\n",
       " [None, '39.07792', '-77.140411666667', None, False, None],\n",
       " '3',\n",
       " '3',\n",
       " '25',\n",
       " '60',\n",
       " '12']"
      ]
     },
     "execution_count": 130,
     "metadata": {},
     "output_type": "execute_result"
    }
   ],
   "source": [
    "#information for one violation\n",
    "violations['data'][0]"
   ]
  },
  {
   "cell_type": "code",
   "execution_count": 131,
   "metadata": {},
   "outputs": [
    {
     "data": {
      "text/plain": [
       "'2018-12-31T00:00:00'"
      ]
     },
     "execution_count": 131,
     "metadata": {},
     "output_type": "execute_result"
    }
   ],
   "source": [
    "#Date of first violation\n",
    "violations['data'][0][9]"
   ]
  },
  {
   "cell_type": "markdown",
   "metadata": {},
   "source": [
    "### Gather Data"
   ]
  },
  {
   "cell_type": "code",
   "execution_count": 139,
   "metadata": {},
   "outputs": [],
   "source": [
    "#fill lists with data\n",
    "\n",
    "date_of_stop = []\n",
    "time_of_stop = []\n",
    "agency = []\n",
    "subangency = []\n",
    "description = []\n",
    "location = []\n",
    "latitude = []\n",
    "longitude = []\n",
    "veh_type = []\n",
    "veh_year = []\n",
    "veh_make = []\n",
    "veh_model = []\n",
    "veh_color = []\n",
    "vio_type = []\n",
    "race = []\n",
    "gender = []\n",
    "dr_st = []\n",
    "dr_st_lic = []\n",
    "arrest_type = []"
   ]
  },
  {
   "cell_type": "code",
   "execution_count": 140,
   "metadata": {},
   "outputs": [],
   "source": [
    "#adding information to each of the lists\n",
    "for info in violations['data']:\n",
    "    date_of_stop.append(info[9])\n",
    "    time_of_stop.append(info[10])\n",
    "    agency.append(info[11])\n",
    "    subangency.append(info[12])\n",
    "    description.append(info[13])\n",
    "    location.append(info[14])\n",
    "    latitude.append(info[15])\n",
    "    longitude.append(info[16])\n",
    "    veh_type.append(info[28])\n",
    "    veh_year.append(info[29])\n",
    "    veh_make.append(info[30])\n",
    "    veh_model.append(info[31])\n",
    "    veh_color.append(info[32])\n",
    "    vio_type.append(info[33])\n",
    "    race.append(info[37])\n",
    "    gender.append(info[38])\n",
    "    dr_st.append(info[40])\n",
    "    dr_st_lic.append(info[41])\n",
    "    arrest_type.append(info[42])"
   ]
  },
  {
   "cell_type": "code",
   "execution_count": 141,
   "metadata": {},
   "outputs": [
    {
     "name": "stdout",
     "output_type": "stream",
     "text": [
      "218273\n",
      "218273\n",
      "218273\n",
      "218273\n",
      "218273\n",
      "218273\n",
      "218273\n",
      "218273\n",
      "218273\n",
      "218273\n",
      "218273\n",
      "218273\n",
      "218273\n",
      "218273\n",
      "218273\n",
      "218273\n",
      "218273\n",
      "218273\n",
      "218273\n"
     ]
    }
   ],
   "source": [
    "#verify all values of each list add up to same length\n",
    "print(len(date_of_stop))\n",
    "print(len(time_of_stop))\n",
    "print(len(agency))\n",
    "print(len(subangency))\n",
    "print(len(description))\n",
    "print(len(location))\n",
    "print(len(latitude))\n",
    "print(len(longitude))\n",
    "print(len(veh_type))\n",
    "print(len(veh_year))\n",
    "print(len(veh_make))\n",
    "print(len(veh_model))\n",
    "print(len(veh_color))\n",
    "print(len(vio_type))\n",
    "print(len(race))\n",
    "print(len(gender))\n",
    "print(len(dr_st))\n",
    "print(len(dr_st_lic))\n",
    "print(len(arrest_type))"
   ]
  },
  {
   "cell_type": "code",
   "execution_count": 142,
   "metadata": {},
   "outputs": [
    {
     "data": {
      "text/plain": [
       "['2018-12-31T00:00:00',\n",
       " '2018-12-31T00:00:00',\n",
       " '2018-12-31T00:00:00',\n",
       " '2018-12-31T00:00:00',\n",
       " '2018-12-31T00:00:00']"
      ]
     },
     "execution_count": 142,
     "metadata": {},
     "output_type": "execute_result"
    }
   ],
   "source": [
    "#look at first 5 values in date_of_stop\n",
    "date_of_stop[:5]"
   ]
  },
  {
   "cell_type": "code",
   "execution_count": null,
   "metadata": {},
   "outputs": [],
   "source": []
  },
  {
   "cell_type": "markdown",
   "metadata": {},
   "source": [
    "### Make gathered information into a dataframe"
   ]
  },
  {
   "cell_type": "code",
   "execution_count": 143,
   "metadata": {},
   "outputs": [],
   "source": [
    "#zip lists together into one list\n",
    "vio_info = list(zip(date_of_stop, time_of_stop, agency, subangency, description, location, latitude, longitude, veh_type, veh_year,veh_make, veh_model, veh_color, vio_type, race, gender, dr_st, dr_st_lic, arrest_type))\n",
    "\n",
    "#make list of column names\n",
    "fields = ['date_of_stop', 'time_of_stop', 'agency', 'subangency', 'description', 'location', 'latitude', 'longitude', 'veh_type', 'veh_year', 'veh_make', 'veh_model', 'veh_color', 'violation_type', 'race', 'gender', 'driver_state', 'dr_st_license', 'arrest_type']"
   ]
  },
  {
   "cell_type": "code",
   "execution_count": 147,
   "metadata": {},
   "outputs": [
    {
     "data": {
      "text/html": [
       "<div>\n",
       "<style scoped>\n",
       "    .dataframe tbody tr th:only-of-type {\n",
       "        vertical-align: middle;\n",
       "    }\n",
       "\n",
       "    .dataframe tbody tr th {\n",
       "        vertical-align: top;\n",
       "    }\n",
       "\n",
       "    .dataframe thead th {\n",
       "        text-align: right;\n",
       "    }\n",
       "</style>\n",
       "<table border=\"1\" class=\"dataframe\">\n",
       "  <thead>\n",
       "    <tr style=\"text-align: right;\">\n",
       "      <th></th>\n",
       "      <th>date_of_stop</th>\n",
       "      <th>time_of_stop</th>\n",
       "      <th>agency</th>\n",
       "      <th>subangency</th>\n",
       "      <th>description</th>\n",
       "      <th>location</th>\n",
       "      <th>latitude</th>\n",
       "      <th>longitude</th>\n",
       "      <th>veh_type</th>\n",
       "      <th>veh_year</th>\n",
       "      <th>veh_make</th>\n",
       "      <th>veh_model</th>\n",
       "      <th>veh_color</th>\n",
       "      <th>violation_type</th>\n",
       "      <th>race</th>\n",
       "      <th>gender</th>\n",
       "      <th>driver_state</th>\n",
       "      <th>dr_st_license</th>\n",
       "      <th>arrest_type</th>\n",
       "    </tr>\n",
       "  </thead>\n",
       "  <tbody>\n",
       "    <tr>\n",
       "      <th>0</th>\n",
       "      <td>2018-12-31T00:00:00</td>\n",
       "      <td>23:56:00</td>\n",
       "      <td>MCP</td>\n",
       "      <td>1st District, Rockville</td>\n",
       "      <td>FAILURE OF VEH. ON HWY. TO DISPLAY LIGHTED LAM...</td>\n",
       "      <td>355 @ FIRST ST</td>\n",
       "      <td>39.07792</td>\n",
       "      <td>-77.1404116666667</td>\n",
       "      <td>02 - Automobile</td>\n",
       "      <td>2007</td>\n",
       "      <td>TOYOTA</td>\n",
       "      <td>COROLLA</td>\n",
       "      <td>BLUE</td>\n",
       "      <td>Warning</td>\n",
       "      <td>BLACK</td>\n",
       "      <td>M</td>\n",
       "      <td>MD</td>\n",
       "      <td>MD</td>\n",
       "      <td>A - Marked Patrol</td>\n",
       "    </tr>\n",
       "    <tr>\n",
       "      <th>1</th>\n",
       "      <td>2018-12-31T00:00:00</td>\n",
       "      <td>23:52:00</td>\n",
       "      <td>MCP</td>\n",
       "      <td>6th District, Gaithersburg / Montgomery Village</td>\n",
       "      <td>FAILURE TO DISPLAY TWO LIGHTED FRONT LAMPS WHE...</td>\n",
       "      <td>N FREDERICK AVE @ ODENDHAL AVE</td>\n",
       "      <td>39.1486766666667</td>\n",
       "      <td>-77.2063433333333</td>\n",
       "      <td>02 - Automobile</td>\n",
       "      <td>2006</td>\n",
       "      <td>LEXUS</td>\n",
       "      <td>4S</td>\n",
       "      <td>GRAY</td>\n",
       "      <td>Warning</td>\n",
       "      <td>HISPANIC</td>\n",
       "      <td>M</td>\n",
       "      <td>MD</td>\n",
       "      <td>MD</td>\n",
       "      <td>A - Marked Patrol</td>\n",
       "    </tr>\n",
       "    <tr>\n",
       "      <th>2</th>\n",
       "      <td>2018-12-31T00:00:00</td>\n",
       "      <td>23:52:00</td>\n",
       "      <td>MCP</td>\n",
       "      <td>6th District, Gaithersburg / Montgomery Village</td>\n",
       "      <td>FAILURE OF VEH. ON HWY. TO DISPLAY LIGHTED LAM...</td>\n",
       "      <td>N FREDERICK AVE @ ODENDHAL AVE</td>\n",
       "      <td>39.1486766666667</td>\n",
       "      <td>-77.2063433333333</td>\n",
       "      <td>02 - Automobile</td>\n",
       "      <td>2006</td>\n",
       "      <td>LEXUS</td>\n",
       "      <td>4S</td>\n",
       "      <td>GRAY</td>\n",
       "      <td>Warning</td>\n",
       "      <td>HISPANIC</td>\n",
       "      <td>M</td>\n",
       "      <td>MD</td>\n",
       "      <td>MD</td>\n",
       "      <td>A - Marked Patrol</td>\n",
       "    </tr>\n",
       "    <tr>\n",
       "      <th>3</th>\n",
       "      <td>2018-12-31T00:00:00</td>\n",
       "      <td>23:45:00</td>\n",
       "      <td>MCP</td>\n",
       "      <td>1st District, Rockville</td>\n",
       "      <td>FAILURE OF VEH. ON HWY. TO DISPLAY LIGHTED LAM...</td>\n",
       "      <td>355 @ BEAL</td>\n",
       "      <td>39.08545</td>\n",
       "      <td>-77.1451033333333</td>\n",
       "      <td>02 - Automobile</td>\n",
       "      <td>2017</td>\n",
       "      <td>TOYOTA</td>\n",
       "      <td>COROLLA</td>\n",
       "      <td>GRAY</td>\n",
       "      <td>Warning</td>\n",
       "      <td>WHITE</td>\n",
       "      <td>F</td>\n",
       "      <td>MD</td>\n",
       "      <td>MD</td>\n",
       "      <td>A - Marked Patrol</td>\n",
       "    </tr>\n",
       "    <tr>\n",
       "      <th>4</th>\n",
       "      <td>2018-12-31T00:00:00</td>\n",
       "      <td>23:44:00</td>\n",
       "      <td>MCP</td>\n",
       "      <td>Headquarters and Special Operations</td>\n",
       "      <td>FAILURE TO DRIVE VEHICLE ON RIGHT HALF OF ROAD...</td>\n",
       "      <td>FENTON ST @ COLESVILLE RD</td>\n",
       "      <td>38.997515</td>\n",
       "      <td>-77.0267766666667</td>\n",
       "      <td>02 - Automobile</td>\n",
       "      <td>2016</td>\n",
       "      <td>CHEVROLET</td>\n",
       "      <td>IMPALA</td>\n",
       "      <td>BLACK</td>\n",
       "      <td>Warning</td>\n",
       "      <td>BLACK</td>\n",
       "      <td>M</td>\n",
       "      <td>VA</td>\n",
       "      <td>VA</td>\n",
       "      <td>A - Marked Patrol</td>\n",
       "    </tr>\n",
       "    <tr>\n",
       "      <th>...</th>\n",
       "      <td>...</td>\n",
       "      <td>...</td>\n",
       "      <td>...</td>\n",
       "      <td>...</td>\n",
       "      <td>...</td>\n",
       "      <td>...</td>\n",
       "      <td>...</td>\n",
       "      <td>...</td>\n",
       "      <td>...</td>\n",
       "      <td>...</td>\n",
       "      <td>...</td>\n",
       "      <td>...</td>\n",
       "      <td>...</td>\n",
       "      <td>...</td>\n",
       "      <td>...</td>\n",
       "      <td>...</td>\n",
       "      <td>...</td>\n",
       "      <td>...</td>\n",
       "      <td>...</td>\n",
       "    </tr>\n",
       "    <tr>\n",
       "      <th>218268</th>\n",
       "      <td>2018-01-01T00:00:00</td>\n",
       "      <td>00:37:00</td>\n",
       "      <td>MCP</td>\n",
       "      <td>2nd District, Bethesda</td>\n",
       "      <td>FAILURE OF DR. TO MAKE LANE CHANGE TO AVAIL. L...</td>\n",
       "      <td>NB 270 AND OLD GEORGETOWN</td>\n",
       "      <td>39.0292383333333</td>\n",
       "      <td>-77.1164183333333</td>\n",
       "      <td>02 - Automobile</td>\n",
       "      <td>2005</td>\n",
       "      <td>SUBARU</td>\n",
       "      <td>OUTBACK</td>\n",
       "      <td>GREEN</td>\n",
       "      <td>Citation</td>\n",
       "      <td>OTHER</td>\n",
       "      <td>F</td>\n",
       "      <td>MD</td>\n",
       "      <td>MD</td>\n",
       "      <td>A - Marked Patrol</td>\n",
       "    </tr>\n",
       "    <tr>\n",
       "      <th>218269</th>\n",
       "      <td>2018-01-01T00:00:00</td>\n",
       "      <td>00:37:00</td>\n",
       "      <td>MCP</td>\n",
       "      <td>2nd District, Bethesda</td>\n",
       "      <td>FAILURE TO DISPLAY REGISTRATION CARD UPON DEMA...</td>\n",
       "      <td>NB 270 AND OLD GEORGETOWN</td>\n",
       "      <td>39.0292383333333</td>\n",
       "      <td>-77.1164183333333</td>\n",
       "      <td>02 - Automobile</td>\n",
       "      <td>2005</td>\n",
       "      <td>SUBARU</td>\n",
       "      <td>OUTBACK</td>\n",
       "      <td>GREEN</td>\n",
       "      <td>Citation</td>\n",
       "      <td>OTHER</td>\n",
       "      <td>F</td>\n",
       "      <td>MD</td>\n",
       "      <td>MD</td>\n",
       "      <td>A - Marked Patrol</td>\n",
       "    </tr>\n",
       "    <tr>\n",
       "      <th>218270</th>\n",
       "      <td>2018-01-01T00:00:00</td>\n",
       "      <td>00:34:00</td>\n",
       "      <td>MCP</td>\n",
       "      <td>2nd District, Bethesda</td>\n",
       "      <td>NEGLIGENT DRIVING VEHICLE IN CARELESS AND IMPR...</td>\n",
       "      <td>EAST WEST HIGHWAY AT WISCONSIN AVENUE</td>\n",
       "      <td>0</td>\n",
       "      <td>0</td>\n",
       "      <td>02 - Automobile</td>\n",
       "      <td>2015</td>\n",
       "      <td>NISSAN</td>\n",
       "      <td>VERSA</td>\n",
       "      <td>BLACK</td>\n",
       "      <td>Warning</td>\n",
       "      <td>BLACK</td>\n",
       "      <td>M</td>\n",
       "      <td>MD</td>\n",
       "      <td>MD</td>\n",
       "      <td>A - Marked Patrol</td>\n",
       "    </tr>\n",
       "    <tr>\n",
       "      <th>218271</th>\n",
       "      <td>2018-01-01T00:00:00</td>\n",
       "      <td>00:34:00</td>\n",
       "      <td>MCP</td>\n",
       "      <td>2nd District, Bethesda</td>\n",
       "      <td>DRIVER FAILURE TO STOP AT STEADY CIRCULAR RED ...</td>\n",
       "      <td>EAST WEST HIGHWAY AT WISCONSIN AVENUE</td>\n",
       "      <td>0</td>\n",
       "      <td>0</td>\n",
       "      <td>02 - Automobile</td>\n",
       "      <td>2015</td>\n",
       "      <td>NISSAN</td>\n",
       "      <td>VERSA</td>\n",
       "      <td>BLACK</td>\n",
       "      <td>Citation</td>\n",
       "      <td>BLACK</td>\n",
       "      <td>M</td>\n",
       "      <td>MD</td>\n",
       "      <td>MD</td>\n",
       "      <td>A - Marked Patrol</td>\n",
       "    </tr>\n",
       "    <tr>\n",
       "      <th>218272</th>\n",
       "      <td>2018-01-01T00:00:00</td>\n",
       "      <td>00:28:00</td>\n",
       "      <td>MCP</td>\n",
       "      <td>3rd District, Silver Spring</td>\n",
       "      <td>DRIVER FAILURE TO OBEY PROPERLY PLACED TRAFFIC...</td>\n",
       "      <td>COLESVILLE RD @ GEORGIA AVE</td>\n",
       "      <td>38.9977816666667</td>\n",
       "      <td>-77.0275416666667</td>\n",
       "      <td>02 - Automobile</td>\n",
       "      <td>2007</td>\n",
       "      <td>LEXUS</td>\n",
       "      <td>4D</td>\n",
       "      <td>SILVER</td>\n",
       "      <td>Warning</td>\n",
       "      <td>BLACK</td>\n",
       "      <td>M</td>\n",
       "      <td>DC</td>\n",
       "      <td>DC</td>\n",
       "      <td>A - Marked Patrol</td>\n",
       "    </tr>\n",
       "  </tbody>\n",
       "</table>\n",
       "<p>218273 rows × 19 columns</p>\n",
       "</div>"
      ],
      "text/plain": [
       "               date_of_stop time_of_stop agency  \\\n",
       "0       2018-12-31T00:00:00     23:56:00    MCP   \n",
       "1       2018-12-31T00:00:00     23:52:00    MCP   \n",
       "2       2018-12-31T00:00:00     23:52:00    MCP   \n",
       "3       2018-12-31T00:00:00     23:45:00    MCP   \n",
       "4       2018-12-31T00:00:00     23:44:00    MCP   \n",
       "...                     ...          ...    ...   \n",
       "218268  2018-01-01T00:00:00     00:37:00    MCP   \n",
       "218269  2018-01-01T00:00:00     00:37:00    MCP   \n",
       "218270  2018-01-01T00:00:00     00:34:00    MCP   \n",
       "218271  2018-01-01T00:00:00     00:34:00    MCP   \n",
       "218272  2018-01-01T00:00:00     00:28:00    MCP   \n",
       "\n",
       "                                             subangency  \\\n",
       "0                               1st District, Rockville   \n",
       "1       6th District, Gaithersburg / Montgomery Village   \n",
       "2       6th District, Gaithersburg / Montgomery Village   \n",
       "3                               1st District, Rockville   \n",
       "4                   Headquarters and Special Operations   \n",
       "...                                                 ...   \n",
       "218268                           2nd District, Bethesda   \n",
       "218269                           2nd District, Bethesda   \n",
       "218270                           2nd District, Bethesda   \n",
       "218271                           2nd District, Bethesda   \n",
       "218272                      3rd District, Silver Spring   \n",
       "\n",
       "                                              description  \\\n",
       "0       FAILURE OF VEH. ON HWY. TO DISPLAY LIGHTED LAM...   \n",
       "1       FAILURE TO DISPLAY TWO LIGHTED FRONT LAMPS WHE...   \n",
       "2       FAILURE OF VEH. ON HWY. TO DISPLAY LIGHTED LAM...   \n",
       "3       FAILURE OF VEH. ON HWY. TO DISPLAY LIGHTED LAM...   \n",
       "4       FAILURE TO DRIVE VEHICLE ON RIGHT HALF OF ROAD...   \n",
       "...                                                   ...   \n",
       "218268  FAILURE OF DR. TO MAKE LANE CHANGE TO AVAIL. L...   \n",
       "218269  FAILURE TO DISPLAY REGISTRATION CARD UPON DEMA...   \n",
       "218270  NEGLIGENT DRIVING VEHICLE IN CARELESS AND IMPR...   \n",
       "218271  DRIVER FAILURE TO STOP AT STEADY CIRCULAR RED ...   \n",
       "218272  DRIVER FAILURE TO OBEY PROPERLY PLACED TRAFFIC...   \n",
       "\n",
       "                                     location          latitude  \\\n",
       "0                              355 @ FIRST ST          39.07792   \n",
       "1              N FREDERICK AVE @ ODENDHAL AVE  39.1486766666667   \n",
       "2              N FREDERICK AVE @ ODENDHAL AVE  39.1486766666667   \n",
       "3                                  355 @ BEAL          39.08545   \n",
       "4                   FENTON ST @ COLESVILLE RD         38.997515   \n",
       "...                                       ...               ...   \n",
       "218268              NB 270 AND OLD GEORGETOWN  39.0292383333333   \n",
       "218269              NB 270 AND OLD GEORGETOWN  39.0292383333333   \n",
       "218270  EAST WEST HIGHWAY AT WISCONSIN AVENUE                 0   \n",
       "218271  EAST WEST HIGHWAY AT WISCONSIN AVENUE                 0   \n",
       "218272            COLESVILLE RD @ GEORGIA AVE  38.9977816666667   \n",
       "\n",
       "                longitude         veh_type veh_year   veh_make veh_model  \\\n",
       "0       -77.1404116666667  02 - Automobile     2007     TOYOTA   COROLLA   \n",
       "1       -77.2063433333333  02 - Automobile     2006      LEXUS        4S   \n",
       "2       -77.2063433333333  02 - Automobile     2006      LEXUS        4S   \n",
       "3       -77.1451033333333  02 - Automobile     2017     TOYOTA   COROLLA   \n",
       "4       -77.0267766666667  02 - Automobile     2016  CHEVROLET    IMPALA   \n",
       "...                   ...              ...      ...        ...       ...   \n",
       "218268  -77.1164183333333  02 - Automobile     2005     SUBARU   OUTBACK   \n",
       "218269  -77.1164183333333  02 - Automobile     2005     SUBARU   OUTBACK   \n",
       "218270                  0  02 - Automobile     2015     NISSAN     VERSA   \n",
       "218271                  0  02 - Automobile     2015     NISSAN     VERSA   \n",
       "218272  -77.0275416666667  02 - Automobile     2007      LEXUS        4D   \n",
       "\n",
       "       veh_color violation_type      race gender driver_state dr_st_license  \\\n",
       "0           BLUE        Warning     BLACK      M           MD            MD   \n",
       "1           GRAY        Warning  HISPANIC      M           MD            MD   \n",
       "2           GRAY        Warning  HISPANIC      M           MD            MD   \n",
       "3           GRAY        Warning     WHITE      F           MD            MD   \n",
       "4          BLACK        Warning     BLACK      M           VA            VA   \n",
       "...          ...            ...       ...    ...          ...           ...   \n",
       "218268     GREEN       Citation     OTHER      F           MD            MD   \n",
       "218269     GREEN       Citation     OTHER      F           MD            MD   \n",
       "218270     BLACK        Warning     BLACK      M           MD            MD   \n",
       "218271     BLACK       Citation     BLACK      M           MD            MD   \n",
       "218272    SILVER        Warning     BLACK      M           DC            DC   \n",
       "\n",
       "              arrest_type  \n",
       "0       A - Marked Patrol  \n",
       "1       A - Marked Patrol  \n",
       "2       A - Marked Patrol  \n",
       "3       A - Marked Patrol  \n",
       "4       A - Marked Patrol  \n",
       "...                   ...  \n",
       "218268  A - Marked Patrol  \n",
       "218269  A - Marked Patrol  \n",
       "218270  A - Marked Patrol  \n",
       "218271  A - Marked Patrol  \n",
       "218272  A - Marked Patrol  \n",
       "\n",
       "[218273 rows x 19 columns]"
      ]
     },
     "execution_count": 147,
     "metadata": {},
     "output_type": "execute_result"
    }
   ],
   "source": [
    "#make the dataframe\n",
    "df = pd.DataFrame(vio_info, columns=fields)\n",
    "\n",
    "df"
   ]
  },
  {
   "cell_type": "code",
   "execution_count": null,
   "metadata": {},
   "outputs": [],
   "source": []
  }
 ],
 "metadata": {
  "kernelspec": {
   "display_name": "Python 3",
   "language": "python",
   "name": "python3"
  },
  "language_info": {
   "codemirror_mode": {
    "name": "ipython",
    "version": 3
   },
   "file_extension": ".py",
   "mimetype": "text/x-python",
   "name": "python",
   "nbconvert_exporter": "python",
   "pygments_lexer": "ipython3",
   "version": "3.7.6"
  }
 },
 "nbformat": 4,
 "nbformat_minor": 4
}
